{
 "cells": [
  {
   "cell_type": "markdown",
   "id": "3bc3b605",
   "metadata": {},
   "source": [
    "### 1) What is the difference between enclosing a list comprehension in square brackets and parentheses?\n",
    "\n",
    " "
   ]
  },
  {
   "cell_type": "markdown",
   "id": "ca77b478",
   "metadata": {},
   "source": [
    "ans: Enclosing a list comprehension in square brackets returns a list. whereas enclosing a list comprehension in parentheses returns a generator object."
   ]
  },
  {
   "cell_type": "code",
   "execution_count": 10,
   "id": "32421a2c",
   "metadata": {},
   "outputs": [
    {
     "name": "stdout",
     "output_type": "stream",
     "text": [
      "['m', 'y', ' ', 'n', 'a', 'm', 'e', ' ', 'i', 's', ' ', 's', 'h', 'a', 's', 'h', 'i', ' ', 's', 'h', 'e', 'k', 'h', 'a', 'r', '.'] <class 'list'>\n",
      "<generator object <genexpr> at 0x000002718FCC8430> <class 'generator'>\n"
     ]
    }
   ],
   "source": [
    "m = [character for character in \"my name is shashi shekhar.\"]\n",
    "print(m,type(m))\n",
    "n= (character for character in \"my name is shashi shekhar.\")\n",
    "print(n,type(n))"
   ]
  },
  {
   "cell_type": "markdown",
   "id": "01a34f16",
   "metadata": {},
   "source": [
    "### 2) What is the relationship between generators and iterators?\n"
   ]
  },
  {
   "cell_type": "markdown",
   "id": "0e3709bd",
   "metadata": {},
   "source": [
    "Generator: It is another way of creating iterators. It uses keyword \"yield\".Generators are implemented using a function. Just as iterators, generators also follow lazy evaluation.The yeild function returns the sequence of data in an iterable format.\n",
    "\n",
    "Iterator: An iterator is an object which contains a countable number of values. It is used to iterate over iterables like list, tuples, sets, etc. It follow lazy evaluation of the expression. It requires only 1 memory location to process the value and wastage of RAM space is reduced in case of large datasets.\n",
    "\n",
    "using an iterator-\n",
    "1.iter() keyword is used to create an iterator containing an iterable object.\n",
    "2.next() keyword is used to call the next element in the iterable object.\n"
   ]
  },
  {
   "cell_type": "code",
   "execution_count": 13,
   "id": "e0c788d2",
   "metadata": {},
   "outputs": [
    {
     "name": "stdout",
     "output_type": "stream",
     "text": [
      "The cube of numbers 1,2,3 are : \n",
      "1\n",
      "8\n",
      "27\n"
     ]
    },
    {
     "data": {
      "text/plain": [
       "NoneType"
      ]
     },
     "execution_count": 13,
     "metadata": {},
     "output_type": "execute_result"
    }
   ],
   "source": [
    "'''Example of generator.'''\n",
    "def cube_number(n):\n",
    "    for i in range(1,n+1):\n",
    "        yield i*i*i\n",
    "\n",
    "m = cube_number(3)\n",
    "print(\"The cube of numbers 1,2,3 are : \")\n",
    "print(next(m))\n",
    "print(next(m))\n",
    "print(next(m))"
   ]
  },
  {
   "cell_type": "code",
   "execution_count": 12,
   "id": "afea6af3",
   "metadata": {},
   "outputs": [
    {
     "name": "stdout",
     "output_type": "stream",
     "text": [
      "shashi\n",
      "shekhar\n"
     ]
    }
   ],
   "source": [
    "'''Example of an iterator'''\n",
    "m = iter(['shashi','shekhar'])\n",
    "print(next(m))\n",
    "print(next(m))"
   ]
  },
  {
   "cell_type": "markdown",
   "id": "76478ef2",
   "metadata": {},
   "source": [
    "### 3) What are the signs that a function is a generator function?\n"
   ]
  },
  {
   "cell_type": "markdown",
   "id": "75249fa0",
   "metadata": {},
   "source": [
    "The generator functions uses a yield statement in place of return statement. A normal function can return a list,dict,etc. whereas a generator function always return a iterable object called generator."
   ]
  },
  {
   "cell_type": "code",
   "execution_count": 16,
   "id": "e0966ae1",
   "metadata": {},
   "outputs": [
    {
     "data": {
      "text/plain": [
       "generator"
      ]
     },
     "execution_count": 16,
     "metadata": {},
     "output_type": "execute_result"
    }
   ],
   "source": [
    "type(cube_number(4))"
   ]
  },
  {
   "cell_type": "markdown",
   "id": "7c9a5891",
   "metadata": {},
   "source": [
    "### 4) What is the purpose of a yield statement?\n"
   ]
  },
  {
   "cell_type": "markdown",
   "id": "aecd4681",
   "metadata": {},
   "source": [
    "Yield is a keyword in python which is used to return from a function without destroying the states of its local variable. when the function is called , the execution starts from the last yield statement."
   ]
  },
  {
   "cell_type": "markdown",
   "id": "98ee97cb",
   "metadata": {},
   "source": [
    "### 5) What is the relationship between map calls and list comprehensions? Make a comparison and contrast between the two."
   ]
  },
  {
   "cell_type": "markdown",
   "id": "64018f36",
   "metadata": {},
   "source": [
    "Relation between map calls and list comprehensions are :\n",
    "1.List comprehension is more concise and it is easier to read than map.\n",
    "2.List comprehension are used when a list of results is required as map only returns a map object and does not return any list.\n",
    "3.Map is faster in case fo calling an already defined function(as no lambda is required).\n",
    "4.List comprehension is faster than map when we need to evaluate expressions that are too long."
   ]
  }
 ],
 "metadata": {
  "kernelspec": {
   "display_name": "Python 3 (ipykernel)",
   "language": "python",
   "name": "python3"
  },
  "language_info": {
   "codemirror_mode": {
    "name": "ipython",
    "version": 3
   },
   "file_extension": ".py",
   "mimetype": "text/x-python",
   "name": "python",
   "nbconvert_exporter": "python",
   "pygments_lexer": "ipython3",
   "version": "3.9.7"
  }
 },
 "nbformat": 4,
 "nbformat_minor": 5
}
