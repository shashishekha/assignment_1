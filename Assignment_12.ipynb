{
 "cells": [
  {
   "cell_type": "markdown",
   "id": "c8d67776",
   "metadata": {},
   "source": [
    "### 1. In what modes should the PdfFileReader() and PdfFileWriter() File objects will be opened?\n",
    "\n"
   ]
  },
  {
   "cell_type": "markdown",
   "id": "8d7f2454",
   "metadata": {},
   "source": [
    "pdfFileReader() needs to be opened in read-binary mode by passing 'rb' as second argument in open().\n",
    "\n",
    "pdfWriter() needs to be opened in write-binary mode with 'wb'."
   ]
  },
  {
   "cell_type": "markdown",
   "id": "ebbb1da4",
   "metadata": {},
   "source": [
    "### 2. From a PdfFileReader object, how do you get a Page object for page 5?\n"
   ]
  },
  {
   "cell_type": "code",
   "execution_count": 1,
   "id": "5028167b",
   "metadata": {},
   "outputs": [
    {
     "name": "stdout",
     "output_type": "stream",
     "text": [
      "Collecting PyPDF2\n",
      "  Downloading PyPDF2-1.26.0.tar.gz (77 kB)\n",
      "Building wheels for collected packages: PyPDF2\n",
      "  Building wheel for PyPDF2 (setup.py): started\n",
      "  Building wheel for PyPDF2 (setup.py): finished with status 'done'\n",
      "  Created wheel for PyPDF2: filename=PyPDF2-1.26.0-py3-none-any.whl size=61101 sha256=b5aba1b7b0d529eb739474056e3d2de226af8cdcfc4896038d5a72f826db7120\n",
      "  Stored in directory: c:\\users\\hp\\appdata\\local\\pip\\cache\\wheels\\d9\\dc\\ec\\72da68331f30074b9950c1737c23cb8a67484e61498bc9713d\n",
      "Successfully built PyPDF2\n",
      "Installing collected packages: PyPDF2\n",
      "Successfully installed PyPDF2-1.26.0\n"
     ]
    }
   ],
   "source": [
    "!pip install PyPDF2"
   ]
  },
  {
   "cell_type": "markdown",
   "id": "a11dbe34",
   "metadata": {},
   "source": [
    "We can get a Page object for page 5  by calling the getPage() method on a PdfFileReader object and passing it the page number 5."
   ]
  },
  {
   "cell_type": "code",
   "execution_count": 12,
   "id": "3a6720a4",
   "metadata": {},
   "outputs": [
    {
     "data": {
      "text/plain": [
       "'PEARSON EDUCATION LIMITED\\nEdinburgh Gate\\nHarlow CM20 2JE\\n\\nTel:+44 (0)1279 623623Fax:+44 (0)1279 431059Website: www.pearsoned.co.uk\\nFirst Published in Great Britain 2000Second edition 2003\\n© Pearson Education Limited 2003\\nISBN 0 321 12381 6The right of Jochen Schiller to be identiﬁed as author of this work has been asserted by him in accordance with \\n\\nthe Copyright,Designs,and Patents Act 1988.\\nAll rights reserved; no part of this publication may be reproduced,stored \\nin a retrieval system,or transmitted in any form or by any means,electronic,\\n\\nmechanical,photocopying,recording,or otherwise without either the prior \\n\\nwritten permission of the Publishers or a licence permitting restricted copying \\n\\nin the United Kingdom issued by the Copyright Licensing Agency Ltd,\\n\\n90 Tottenham Court Road,London W1T 4LP\\n. The programs in this book have been included for their instructional value.\\nThe publisher does not offer any warranties or representations in respect of their \\n\\nﬁtness for a particular purpose,nor does the publisher accept any liability for any\\n\\nloss or damage (other than for personal injury or death) arising from their use.\\nAll trademarks used herein are the property of their respective owners.The use of any \\ntrademark in this text does not vest in the author or publisher any trademark ownership rights \\n\\nin such trademarks,nor does the use of such trademarks imply any afﬁliation with or \\n\\nendorsement of this book by such owners.\\nBritish Library Cataloguing-in-Publication Data\\nA catalogue record for this book is available from the British Library.\\nLibrary of Congress Cataloging in Publication Data\\nA catalog record for this book is available from the Library of Congress.\\n10 9 8 7 6 5 4 3 2 108  07  06  05  04Text design by barker/hilsdon @ compuserve.com\\nTypeset by Pantek Arts Ltd.,Maidstone,Kent\\nPrinted and bound in Great Britain by Biddles Ltd,www.biddles.co.uk\\nThe publishers’policy is to use paper manufactured from sustainable forests.\\n01Prelims 8804 (i-xx)  30/5/03  11:03 am  Page iv\\nDownloaded From : www.EasyEngineering.netDownloaded From : www.EasyEngineering.netwww.EasyEngineering.net'"
      ]
     },
     "execution_count": 12,
     "metadata": {},
     "output_type": "execute_result"
    }
   ],
   "source": [
    "import PyPDF2 as pdf\n",
    "pdfObj = open(\"mocom.pdf\",'rb')\n",
    "pdfRead = pdf.PdfFileReader(pdfObj)\n",
    "ForPage = pdfRead.getPage(5)\n",
    "ForPage.extractText()"
   ]
  },
  {
   "cell_type": "markdown",
   "id": "8524ba0f",
   "metadata": {},
   "source": [
    "### 3. What PdfFileReader variable stores the number of pages in the PDF document?\n"
   ]
  },
  {
   "cell_type": "markdown",
   "id": "79382b1e",
   "metadata": {},
   "source": [
    "getNumPages() method of PdfFileReader stores the number of pages in a PDF format."
   ]
  },
  {
   "cell_type": "code",
   "execution_count": 16,
   "id": "1db6d83f",
   "metadata": {},
   "outputs": [
    {
     "data": {
      "text/plain": [
       "514"
      ]
     },
     "execution_count": 16,
     "metadata": {},
     "output_type": "execute_result"
    }
   ],
   "source": [
    "pdfReader = pdf.PdfFileReader(pdfObj)\n",
    "pdfReader.numPages"
   ]
  },
  {
   "cell_type": "markdown",
   "id": "e7e1cc73",
   "metadata": {},
   "source": [
    "### 4. If a PdfFileReader object’s PDF is encrypted with the password swordfish, what must you do before you can obtain Page objects from it?\n"
   ]
  },
  {
   "cell_type": "markdown",
   "id": "45bca4e9",
   "metadata": {},
   "source": [
    "We can follow the following steps:\n",
    "1.Open PDF file with the pdfFileReader class using PyPDF2\n",
    "\n",
    "2.Decrypt an encrypted PDF file with decrypt function\n",
    "\n",
    "3.Decrypt an encrypted PDF file with qpdf when NotImplementedError is occured"
   ]
  },
  {
   "cell_type": "code",
   "execution_count": null,
   "id": "b9416af1",
   "metadata": {},
   "outputs": [],
   "source": []
  },
  {
   "cell_type": "markdown",
   "id": "abeb41d1",
   "metadata": {},
   "source": [
    "### 5. What methods do you use to rotate a page?\n"
   ]
  },
  {
   "cell_type": "markdown",
   "id": "b2b5a379",
   "metadata": {},
   "source": [
    "PyPDF2 provides these methods to rotate a page:\n",
    "\n",
    "1.rotateClockWise() : this method is used for clockwise rotation\n",
    "\n",
    "2.rotateCounterClockwise() : this method is used for anti clockwise rotation.\n",
    "    "
   ]
  },
  {
   "cell_type": "markdown",
   "id": "f6a5dc15",
   "metadata": {},
   "source": [
    "### 6. What is the difference between a Run object and a Paragraph object?\n"
   ]
  },
  {
   "cell_type": "markdown",
   "id": "91c63aff",
   "metadata": {},
   "source": [
    "The difference between Run Object and Paragraph Object are as follows:\n",
    "\n",
    "1.Paragraph object  : A document contains multiple paragraphs. A new paragraph begins whenever the user presses ENTER or RETURN while typing in a word document. Each of these paragraph objects contains a list of one or more Run objects.\n",
    "\n",
    "2.Run object : A Run object is a contiguous run of text with the same style. A new Run object is needed  whenever the text style changes.\n"
   ]
  },
  {
   "cell_type": "markdown",
   "id": "8d789337",
   "metadata": {},
   "source": [
    "### 7. How do you obtain a list of Paragraph objects for a Document object that’s stored in a variable named doc?\n"
   ]
  },
  {
   "cell_type": "code",
   "execution_count": 19,
   "id": "8c3efb34",
   "metadata": {},
   "outputs": [
    {
     "name": "stdout",
     "output_type": "stream",
     "text": [
      "Requirement already satisfied: python-docx in c:\\users\\hp\\anaconda3\\lib\\site-packages (0.8.11)\n",
      "Requirement already satisfied: lxml>=2.3.2 in c:\\users\\hp\\anaconda3\\lib\\site-packages (from python-docx) (4.6.3)\n"
     ]
    }
   ],
   "source": [
    "!pip install python-docx"
   ]
  },
  {
   "cell_type": "code",
   "execution_count": 25,
   "id": "939a8c98",
   "metadata": {},
   "outputs": [
    {
     "data": {
      "text/plain": [
       "[<docx.text.paragraph.Paragraph at 0x199cf623b80>,\n",
       " <docx.text.paragraph.Paragraph at 0x199cf623be0>]"
      ]
     },
     "execution_count": 25,
     "metadata": {},
     "output_type": "execute_result"
    }
   ],
   "source": [
    "import docx\n",
    "doc = docx.Document('shas.docx')\n",
    "doc.paragraphs #by doc.paragraphs we can obtain the list of paragraph objects."
   ]
  },
  {
   "cell_type": "markdown",
   "id": "f1f27b54",
   "metadata": {},
   "source": [
    "### 8. What type of object has bold, underline, italic, strike, and outline variables?\n"
   ]
  },
  {
   "cell_type": "markdown",
   "id": "036eb68a",
   "metadata": {},
   "source": [
    "The Run object has bold, underline, italic , strike, and outline variables."
   ]
  },
  {
   "cell_type": "markdown",
   "id": "74c15a08",
   "metadata": {},
   "source": [
    "### 9. What is the difference between False, True, and None for the bold variable?\n"
   ]
  },
  {
   "cell_type": "markdown",
   "id": "2c5cd859",
   "metadata": {},
   "source": [
    "Runs can be also styled using text attributes.Each attribute can have one of the three values:\n",
    "\n",
    "True : This attribute is always enabled.It makes the Run oject bold.\n",
    "\n",
    "False : The attribute is always disabled.It makes the Run object not bold.\n",
    "\n",
    "None : It defaults to whatever the run style is set to."
   ]
  },
  {
   "cell_type": "markdown",
   "id": "e8e56375",
   "metadata": {},
   "source": [
    "### 10. How do you create a Document object for a new Word document?\n"
   ]
  },
  {
   "cell_type": "markdown",
   "id": "ac0cae1f",
   "metadata": {},
   "source": [
    "We can create a document object for a new word document by calling docx.Document() method."
   ]
  },
  {
   "cell_type": "markdown",
   "id": "dbf66fa9",
   "metadata": {},
   "source": [
    "### 11. How do you add a paragraph with the text 'Hello, there!' to a Document object stored in a variable named doc?\n"
   ]
  },
  {
   "cell_type": "code",
   "execution_count": 36,
   "id": "0f6f8631",
   "metadata": {},
   "outputs": [],
   "source": [
    "import docx\n",
    "doc = docx.Document()\n",
    "doc.add_paragraph('Hello, there!')\n",
    "doc.save(\"shas.docx\")"
   ]
  },
  {
   "cell_type": "markdown",
   "id": "195b57bf",
   "metadata": {},
   "source": [
    "### 12. What integers represent the levels of headings available in Word documents?"
   ]
  },
  {
   "cell_type": "markdown",
   "id": "44be58f3",
   "metadata": {},
   "source": [
    "An integer from 0 to 4 represents the levels of heading in word documents."
   ]
  },
  {
   "cell_type": "code",
   "execution_count": 28,
   "id": "8af4f698",
   "metadata": {},
   "outputs": [
    {
     "data": {
      "text/plain": [
       "<docx.text.paragraph.Paragraph at 0x199cf5f4c40>"
      ]
     },
     "execution_count": 28,
     "metadata": {},
     "output_type": "execute_result"
    }
   ],
   "source": [
    "doc = docx.Document()\n",
    "doc.add_heading('Header 0', 0)"
   ]
  },
  {
   "cell_type": "code",
   "execution_count": 29,
   "id": "bb14b9bb",
   "metadata": {},
   "outputs": [
    {
     "data": {
      "text/plain": [
       "<docx.text.paragraph.Paragraph at 0x199cf5f4f70>"
      ]
     },
     "execution_count": 29,
     "metadata": {},
     "output_type": "execute_result"
    }
   ],
   "source": [
    "doc.add_heading('Header 1', 1)\n"
   ]
  },
  {
   "cell_type": "code",
   "execution_count": 30,
   "id": "6678a8e3",
   "metadata": {},
   "outputs": [
    {
     "data": {
      "text/plain": [
       "<docx.text.paragraph.Paragraph at 0x199cf5f4eb0>"
      ]
     },
     "execution_count": 30,
     "metadata": {},
     "output_type": "execute_result"
    }
   ],
   "source": [
    "doc.add_heading('Header 2', 2)\n"
   ]
  },
  {
   "cell_type": "code",
   "execution_count": 31,
   "id": "2d70e314",
   "metadata": {},
   "outputs": [
    {
     "data": {
      "text/plain": [
       "<docx.text.paragraph.Paragraph at 0x199cf623fd0>"
      ]
     },
     "execution_count": 31,
     "metadata": {},
     "output_type": "execute_result"
    }
   ],
   "source": [
    "doc.add_heading('Header 3', 3)\n"
   ]
  },
  {
   "cell_type": "code",
   "execution_count": 32,
   "id": "b22c9262",
   "metadata": {},
   "outputs": [
    {
     "data": {
      "text/plain": [
       "<docx.text.paragraph.Paragraph at 0x199cf63b850>"
      ]
     },
     "execution_count": 32,
     "metadata": {},
     "output_type": "execute_result"
    }
   ],
   "source": [
    "doc.add_heading('Header 4', 4)"
   ]
  },
  {
   "cell_type": "markdown",
   "id": "c3a636b7",
   "metadata": {},
   "source": [
    "The integer 0 makes the heading the Title style, 1 to 4 are various heading levels with 1 being the main heading and 4 the lowest subheading."
   ]
  },
  {
   "cell_type": "code",
   "execution_count": null,
   "id": "f0d8accc",
   "metadata": {},
   "outputs": [],
   "source": []
  }
 ],
 "metadata": {
  "kernelspec": {
   "display_name": "Python 3 (ipykernel)",
   "language": "python",
   "name": "python3"
  },
  "language_info": {
   "codemirror_mode": {
    "name": "ipython",
    "version": 3
   },
   "file_extension": ".py",
   "mimetype": "text/x-python",
   "name": "python",
   "nbconvert_exporter": "python",
   "pygments_lexer": "ipython3",
   "version": "3.9.7"
  }
 },
 "nbformat": 4,
 "nbformat_minor": 5
}
