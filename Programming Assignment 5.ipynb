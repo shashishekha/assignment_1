{
 "cells": [
  {
   "cell_type": "markdown",
   "id": "e4779e53",
   "metadata": {},
   "source": [
    "### 1.Write a Python Program to Find LCM?\n",
    "\n"
   ]
  },
  {
   "cell_type": "code",
   "execution_count": 6,
   "id": "8f3cbec0",
   "metadata": {},
   "outputs": [
    {
     "name": "stdout",
     "output_type": "stream",
     "text": [
      "Enter first number.4\n",
      "Enter second number 6\n",
      "12\n"
     ]
    }
   ],
   "source": [
    "from math import gcd\n",
    "def lcm(a,b):\n",
    "    '''Function for finding the lcm of two numbers'''\n",
    "    return a*b/(gcd(a,b))\n",
    "a = int(input(\"Enter first number.\"))\n",
    "b  =int(input(\"Enter second number \"))\n",
    "print(int(lcm(a,b)))"
   ]
  },
  {
   "cell_type": "markdown",
   "id": "3f1c3336",
   "metadata": {},
   "source": [
    "### 2.Write a Python Program to Find HCF?\n"
   ]
  },
  {
   "cell_type": "code",
   "execution_count": 7,
   "id": "30fa8622",
   "metadata": {},
   "outputs": [
    {
     "name": "stdout",
     "output_type": "stream",
     "text": [
      "Enter first number.5\n",
      "Enter second number.7\n",
      "1\n"
     ]
    }
   ],
   "source": [
    "from math import gcd\n",
    "def hcf(a,b):\n",
    "    '''Function to print hcf of two numbers.'''\n",
    "    return (gcd(a,b))\n",
    "a= int(input(\"Enter first number.\"))\n",
    "b= int(input(\"Enter second number.\"))\n",
    "print(hcf(a,b))"
   ]
  },
  {
   "cell_type": "markdown",
   "id": "32b5e36a",
   "metadata": {},
   "source": [
    "### 3.Write a Python Program to Convert Decimal to Binary, Octal and Hexadecimal?\n"
   ]
  },
  {
   "cell_type": "code",
   "execution_count": 10,
   "id": "20189a9c",
   "metadata": {},
   "outputs": [
    {
     "name": "stdout",
     "output_type": "stream",
     "text": [
      "Enter the value:55\n",
      "The decimal value is : 55\n",
      "0b110111 value in binary.\n",
      "0o67 value in octal.\n",
      "0x37 value in hexadecimal.\n"
     ]
    }
   ],
   "source": [
    "def tobin_oct_hexa(dec):\n",
    "    \"\"\"Function to convert decimal value to binary, octal and hexadecimal.\"\"\"\n",
    "    print(\"The decimal value is :\",dec)\n",
    "    print(bin(dec),\"value in binary.\")\n",
    "    print(oct(dec),\"value in octal.\")\n",
    "    print(hex(dec),\"value in hexadecimal.\")\n",
    "\n",
    "dec = int(input(\"Enter the value:\"))\n",
    "tobin_oct_hexa(dec)"
   ]
  },
  {
   "cell_type": "markdown",
   "id": "f5fd1df4",
   "metadata": {},
   "source": [
    "### 4.Write a Python Program To Find ASCII value of a character?\n"
   ]
  },
  {
   "cell_type": "code",
   "execution_count": 18,
   "id": "daf9cc36",
   "metadata": {},
   "outputs": [
    {
     "name": "stdout",
     "output_type": "stream",
     "text": [
      "Enter the characterg\n",
      "103\n"
     ]
    }
   ],
   "source": [
    "def FindAscii(character):\n",
    "    '''Function to findascii value of given character.'''\n",
    "    return ord(character)\n",
    "a = input(\"Enter the character\")\n",
    "print(FindAscii(a))"
   ]
  },
  {
   "cell_type": "markdown",
   "id": "86500501",
   "metadata": {},
   "source": [
    "### 5.Write a Python Program to Make a Simple Calculator with 4 basic mathematical operations?"
   ]
  },
  {
   "cell_type": "code",
   "execution_count": 26,
   "id": "9e53f17b",
   "metadata": {},
   "outputs": [
    {
     "name": "stdout",
     "output_type": "stream",
     "text": [
      "Please select: \n",
      "1.Add\n",
      "2.Subtract\n",
      "3.Multiply\n",
      "4.Divide\n",
      "select from 1,2,3,4:4\n",
      "Enter the first number: 6\n",
      "Enter the second number: 2\n",
      "6 / 2 = 3.0\n"
     ]
    }
   ],
   "source": [
    "def add(a,b):\n",
    "    \n",
    "    return a+b\n",
    "def sub(a,b):\n",
    "    return a-b\n",
    "def mul(a,b):\n",
    "    return a*b\n",
    "def div(a,b):\n",
    "    return a/b\n",
    "\n",
    "print(\"Please select: \\n\" \"1.Add\\n\" \"2.Subtract\\n\" \"3.Multiply\\n\" \"4.Divide\")\n",
    "choose = int(input(\"select from 1,2,3,4:\"))\n",
    "\n",
    "a= int(input(\"Enter the first number: \"))\n",
    "b= int(input(\"Enter the second number: \"))\n",
    "\n",
    "if choose == 1:\n",
    "    print(a, \"+\", b, \"=\", add(a,b))\n",
    "elif choose == 2:\n",
    "    print(a, \"-\", b,\"=\", sub(a,b))\n",
    "elif choose == 3:\n",
    "    print(a,\"x\", b, \"=\", mul(a,b))\n",
    "else:\n",
    "    print(a,\"/\", b, \"=\", div(a,b))"
   ]
  },
  {
   "cell_type": "code",
   "execution_count": null,
   "id": "89b741e1",
   "metadata": {},
   "outputs": [],
   "source": []
  }
 ],
 "metadata": {
  "kernelspec": {
   "display_name": "Python 3 (ipykernel)",
   "language": "python",
   "name": "python3"
  },
  "language_info": {
   "codemirror_mode": {
    "name": "ipython",
    "version": 3
   },
   "file_extension": ".py",
   "mimetype": "text/x-python",
   "name": "python",
   "nbconvert_exporter": "python",
   "pygments_lexer": "ipython3",
   "version": "3.9.7"
  }
 },
 "nbformat": 4,
 "nbformat_minor": 5
}
