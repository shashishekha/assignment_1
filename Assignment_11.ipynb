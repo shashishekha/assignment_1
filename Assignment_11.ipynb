{
 "cells": [
  {
   "cell_type": "markdown",
   "id": "6289c43f",
   "metadata": {},
   "source": [
    "### 1. Create an assert statement that throws an AssertionError if the variable spam is a negative integer.\n",
    "\n"
   ]
  },
  {
   "cell_type": "code",
   "execution_count": 5,
   "id": "5a12d23c",
   "metadata": {},
   "outputs": [
    {
     "ename": "AssertionError",
     "evalue": "spam cannot be negative integer.",
     "output_type": "error",
     "traceback": [
      "\u001b[1;31m---------------------------------------------------------------------------\u001b[0m",
      "\u001b[1;31mAssertionError\u001b[0m                            Traceback (most recent call last)",
      "\u001b[1;32m~\\AppData\\Local\\Temp/ipykernel_19192/1048278941.py\u001b[0m in \u001b[0;36m<module>\u001b[1;34m\u001b[0m\n\u001b[0;32m      1\u001b[0m \u001b[0mspam\u001b[0m \u001b[1;33m=\u001b[0m \u001b[1;33m-\u001b[0m\u001b[1;36m2\u001b[0m\u001b[1;33m\u001b[0m\u001b[1;33m\u001b[0m\u001b[0m\n\u001b[1;32m----> 2\u001b[1;33m \u001b[1;32massert\u001b[0m \u001b[0mspam\u001b[0m\u001b[1;33m>=\u001b[0m\u001b[1;36m0\u001b[0m \u001b[1;33m,\u001b[0m \u001b[1;34m'spam cannot be negative integer.'\u001b[0m\u001b[1;33m\u001b[0m\u001b[1;33m\u001b[0m\u001b[0m\n\u001b[0m",
      "\u001b[1;31mAssertionError\u001b[0m: spam cannot be negative integer."
     ]
    }
   ],
   "source": [
    "spam = -2\n",
    "assert spam>=0 , 'spam cannot be negative integer.'"
   ]
  },
  {
   "cell_type": "markdown",
   "id": "01f99d97",
   "metadata": {},
   "source": [
    "### 2. Write an assert statement that triggers an AssertionError if the variables eggs and bacon contain strings that are the same as each other, even if their cases are different (that is, 'hello' and 'hello' are considered the same, and 'goodbye' and 'GOODbye' are also considered the same).\n"
   ]
  },
  {
   "cell_type": "code",
   "execution_count": 6,
   "id": "5b5907a7",
   "metadata": {},
   "outputs": [],
   "source": [
    "def asser(eggs,bacon):\n",
    "    eggs = eggs.upper()\n",
    "    bacon = bacon.upper()\n",
    "    assert eggs!=bacon, 'Eggs and bacon should not be same'"
   ]
  },
  {
   "cell_type": "code",
   "execution_count": 8,
   "id": "8a2f90a5",
   "metadata": {},
   "outputs": [
    {
     "ename": "AssertionError",
     "evalue": "Eggs and bacon should not be same",
     "output_type": "error",
     "traceback": [
      "\u001b[1;31m---------------------------------------------------------------------------\u001b[0m",
      "\u001b[1;31mAssertionError\u001b[0m                            Traceback (most recent call last)",
      "\u001b[1;32m~\\AppData\\Local\\Temp/ipykernel_19192/3797986317.py\u001b[0m in \u001b[0;36m<module>\u001b[1;34m\u001b[0m\n\u001b[1;32m----> 1\u001b[1;33m \u001b[0masser\u001b[0m\u001b[1;33m(\u001b[0m\u001b[1;34m'shashi'\u001b[0m\u001b[1;33m,\u001b[0m\u001b[1;34m'SHASHI'\u001b[0m\u001b[1;33m)\u001b[0m\u001b[1;33m\u001b[0m\u001b[1;33m\u001b[0m\u001b[0m\n\u001b[0m",
      "\u001b[1;32m~\\AppData\\Local\\Temp/ipykernel_19192/1043784439.py\u001b[0m in \u001b[0;36masser\u001b[1;34m(eggs, bacon)\u001b[0m\n\u001b[0;32m      2\u001b[0m     \u001b[0meggs\u001b[0m \u001b[1;33m=\u001b[0m \u001b[0meggs\u001b[0m\u001b[1;33m.\u001b[0m\u001b[0mupper\u001b[0m\u001b[1;33m(\u001b[0m\u001b[1;33m)\u001b[0m\u001b[1;33m\u001b[0m\u001b[1;33m\u001b[0m\u001b[0m\n\u001b[0;32m      3\u001b[0m     \u001b[0mbacon\u001b[0m \u001b[1;33m=\u001b[0m \u001b[0mbacon\u001b[0m\u001b[1;33m.\u001b[0m\u001b[0mupper\u001b[0m\u001b[1;33m(\u001b[0m\u001b[1;33m)\u001b[0m\u001b[1;33m\u001b[0m\u001b[1;33m\u001b[0m\u001b[0m\n\u001b[1;32m----> 4\u001b[1;33m     \u001b[1;32massert\u001b[0m \u001b[0meggs\u001b[0m\u001b[1;33m!=\u001b[0m\u001b[0mbacon\u001b[0m\u001b[1;33m,\u001b[0m \u001b[1;34m'Eggs and bacon should not be same'\u001b[0m\u001b[1;33m\u001b[0m\u001b[1;33m\u001b[0m\u001b[0m\n\u001b[0m",
      "\u001b[1;31mAssertionError\u001b[0m: Eggs and bacon should not be same"
     ]
    }
   ],
   "source": [
    "asser('shashi','SHASHI')"
   ]
  },
  {
   "cell_type": "markdown",
   "id": "2d9bb985",
   "metadata": {},
   "source": [
    "### 3. Create an assert statement that throws an AssertionError every time.\n"
   ]
  },
  {
   "cell_type": "code",
   "execution_count": 9,
   "id": "b288a550",
   "metadata": {},
   "outputs": [
    {
     "ename": "AssertionError",
     "evalue": "It always shows assertion error",
     "output_type": "error",
     "traceback": [
      "\u001b[1;31m---------------------------------------------------------------------------\u001b[0m",
      "\u001b[1;31mAssertionError\u001b[0m                            Traceback (most recent call last)",
      "\u001b[1;32m~\\AppData\\Local\\Temp/ipykernel_19192/1617596622.py\u001b[0m in \u001b[0;36m<module>\u001b[1;34m\u001b[0m\n\u001b[0;32m      1\u001b[0m \u001b[1;32mdef\u001b[0m \u001b[0masser\u001b[0m\u001b[1;33m(\u001b[0m\u001b[1;33m)\u001b[0m\u001b[1;33m:\u001b[0m\u001b[1;33m\u001b[0m\u001b[1;33m\u001b[0m\u001b[0m\n\u001b[0;32m      2\u001b[0m     \u001b[1;32massert\u001b[0m \u001b[1;36m0\u001b[0m\u001b[1;33m,\u001b[0m \u001b[1;34m'It always shows assertion error'\u001b[0m\u001b[1;33m\u001b[0m\u001b[1;33m\u001b[0m\u001b[0m\n\u001b[1;32m----> 3\u001b[1;33m \u001b[0masser\u001b[0m\u001b[1;33m(\u001b[0m\u001b[1;33m)\u001b[0m\u001b[1;33m\u001b[0m\u001b[1;33m\u001b[0m\u001b[0m\n\u001b[0m",
      "\u001b[1;32m~\\AppData\\Local\\Temp/ipykernel_19192/1617596622.py\u001b[0m in \u001b[0;36masser\u001b[1;34m()\u001b[0m\n\u001b[0;32m      1\u001b[0m \u001b[1;32mdef\u001b[0m \u001b[0masser\u001b[0m\u001b[1;33m(\u001b[0m\u001b[1;33m)\u001b[0m\u001b[1;33m:\u001b[0m\u001b[1;33m\u001b[0m\u001b[1;33m\u001b[0m\u001b[0m\n\u001b[1;32m----> 2\u001b[1;33m     \u001b[1;32massert\u001b[0m \u001b[1;36m0\u001b[0m\u001b[1;33m,\u001b[0m \u001b[1;34m'It always shows assertion error'\u001b[0m\u001b[1;33m\u001b[0m\u001b[1;33m\u001b[0m\u001b[0m\n\u001b[0m\u001b[0;32m      3\u001b[0m \u001b[0masser\u001b[0m\u001b[1;33m(\u001b[0m\u001b[1;33m)\u001b[0m\u001b[1;33m\u001b[0m\u001b[1;33m\u001b[0m\u001b[0m\n",
      "\u001b[1;31mAssertionError\u001b[0m: It always shows assertion error"
     ]
    }
   ],
   "source": [
    "def asser():\n",
    "    assert 0, 'It always shows assertion error'\n",
    "asser()"
   ]
  },
  {
   "cell_type": "markdown",
   "id": "78b44051",
   "metadata": {},
   "source": [
    "### 4. What are the two lines that must be present in your software in order to call logging.debug()?\n"
   ]
  },
  {
   "cell_type": "code",
   "execution_count": 10,
   "id": "6552712c",
   "metadata": {},
   "outputs": [],
   "source": [
    "import logging\n",
    "logging.basicConfig(filename = 'newapp.text',level = logging.DEBUG, format='%(asctime)s - %(levelname)s - %(message)s' )"
   ]
  },
  {
   "cell_type": "markdown",
   "id": "7f2a6478",
   "metadata": {},
   "source": [
    "### 5. What are the two lines that your program must have in order to have logging.debug() send a logging message to a file named programLog.txt?\n"
   ]
  },
  {
   "cell_type": "code",
   "execution_count": 25,
   "id": "06fb7f88",
   "metadata": {},
   "outputs": [],
   "source": [
    "import logging\n",
    "logging.basicConfig(filename = 'programLog.txt',level = logging.DEBUG, format='%(asctime)s - %(levelname)s - %(message)s' )\n",
    "\n"
   ]
  },
  {
   "cell_type": "code",
   "execution_count": 23,
   "id": "6d23a69e",
   "metadata": {},
   "outputs": [
    {
     "data": {
      "text/plain": [
       "'C:\\\\Users\\\\HP\\\\Desktop\\\\ineuronnnn'"
      ]
     },
     "execution_count": 23,
     "metadata": {},
     "output_type": "execute_result"
    }
   ],
   "source": [
    "import os\n",
    "os.getcwd()"
   ]
  },
  {
   "cell_type": "code",
   "execution_count": 24,
   "id": "3a8ffee5",
   "metadata": {},
   "outputs": [],
   "source": [
    "logging.debug(\"This is the first log\")"
   ]
  },
  {
   "cell_type": "code",
   "execution_count": 27,
   "id": "39590d7c",
   "metadata": {},
   "outputs": [
    {
     "name": "stdout",
     "output_type": "stream",
     "text": [
      "2022-03-12 20:25:19,605 - DEBUG - This is the first log\n",
      "\n",
      "2022-03-12 20:28:19,861 - DEBUG - This is the first log\n",
      "\n",
      "2022-03-12 20:30:41,169 - DEBUG - This is the first log\n",
      "\n"
     ]
    }
   ],
   "source": [
    "file=open(\"C:\\\\Users\\\\HP\\\\Desktop\\\\ineuronnnn\\\\newapp.text\",\"r\")\n",
    "for i in file.readlines():\n",
    "    print(i)"
   ]
  },
  {
   "cell_type": "markdown",
   "id": "5ef3a7b5",
   "metadata": {},
   "source": [
    "### 6. What are the five levels of logging?\n"
   ]
  },
  {
   "cell_type": "markdown",
   "id": "29bc81f5",
   "metadata": {},
   "source": [
    "The Five levels of logging are CRITICAL(50), ERROR(40), WARNING(30), INFO(20), DEBUG(10), NOTSET(0)"
   ]
  },
  {
   "cell_type": "markdown",
   "id": "a69a02a6",
   "metadata": {},
   "source": [
    "### 7. What line of code would you add to your software to disable all logging messages?\n"
   ]
  },
  {
   "cell_type": "code",
   "execution_count": 28,
   "id": "a2c2cc91",
   "metadata": {},
   "outputs": [],
   "source": [
    "logging.disable = True"
   ]
  },
  {
   "cell_type": "markdown",
   "id": "0914eeaa",
   "metadata": {},
   "source": [
    "### 8.Why is using logging messages better than using print() to display the same message?\n"
   ]
  },
  {
   "cell_type": "markdown",
   "id": "917f949f",
   "metadata": {},
   "source": [
    "Logging is better than print as logging helps to record all events like info, debug, time,etc. which can help to track the work we did and when. We also disable logging messages without removing the logging function. But in case of print we have to remove it manually . Both can be used for the purpose of debugging but logging is better."
   ]
  },
  {
   "cell_type": "markdown",
   "id": "82939f9e",
   "metadata": {},
   "source": [
    "### 9. What are the differences between the Step Over, Step In, and Step Out buttons in the debugger?\n"
   ]
  },
  {
   "cell_type": "markdown",
   "id": "2b4cc5ba",
   "metadata": {},
   "source": [
    "The differences between Step Over , Step In , Step Out buttons in debugger are:\n",
    "\n",
    "1.Step In: It will cause the debugger to execute the next line of code and then pause again.\n",
    "\n",
    "2.Step Over: It will execute the next line of code ,similar to the Step In button. If the next line of code is a function call, the Step Over button will \"step over\" the code in the function. The function code will be executed at full speed, and the debugger will pause as soon as the function call returns.\n",
    "\n",
    "3.Step Out: Step Out button will cause the debugger to execute lines of code at full speed until it returns from the current function."
   ]
  },
  {
   "cell_type": "markdown",
   "id": "ed3e3d44",
   "metadata": {},
   "source": [
    "### 10.After you click Continue, when will the debugger stop ?\n"
   ]
  },
  {
   "cell_type": "markdown",
   "id": "d3ff935c",
   "metadata": {},
   "source": [
    "This will cause the program to continue running normally, until it reaches to a breakpoint."
   ]
  },
  {
   "cell_type": "markdown",
   "id": "a6b74df8",
   "metadata": {},
   "source": [
    "### 11. What is the concept of a breakpoint?"
   ]
  },
  {
   "cell_type": "markdown",
   "id": "d730fe99",
   "metadata": {},
   "source": [
    "Breakpoint is a setting on a line of code that causes the debugger to pause when the program execution reaches the line.\n",
    "Python breakpoint() built-in function is a tool that allows the developers to set points in code at which a debugger is called.\n"
   ]
  },
  {
   "cell_type": "code",
   "execution_count": null,
   "id": "88a9c311",
   "metadata": {},
   "outputs": [],
   "source": []
  }
 ],
 "metadata": {
  "kernelspec": {
   "display_name": "Python 3 (ipykernel)",
   "language": "python",
   "name": "python3"
  },
  "language_info": {
   "codemirror_mode": {
    "name": "ipython",
    "version": 3
   },
   "file_extension": ".py",
   "mimetype": "text/x-python",
   "name": "python",
   "nbconvert_exporter": "python",
   "pygments_lexer": "ipython3",
   "version": "3.9.7"
  }
 },
 "nbformat": 4,
 "nbformat_minor": 5
}
