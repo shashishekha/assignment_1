{
 "cells": [
  {
   "cell_type": "markdown",
   "id": "c84798d5",
   "metadata": {},
   "source": [
    "### 1. What does an empty dictionary's code look like?\n",
    "\n"
   ]
  },
  {
   "cell_type": "markdown",
   "id": "a2f9d858",
   "metadata": {},
   "source": [
    "The empty dictionary's code simply look like having two curly brackets."
   ]
  },
  {
   "cell_type": "code",
   "execution_count": 1,
   "id": "2e68566b",
   "metadata": {},
   "outputs": [
    {
     "data": {
      "text/plain": [
       "{}"
      ]
     },
     "execution_count": 1,
     "metadata": {},
     "output_type": "execute_result"
    }
   ],
   "source": [
    "a = {}\n",
    "a"
   ]
  },
  {
   "cell_type": "markdown",
   "id": "e0a5be35",
   "metadata": {},
   "source": [
    "### 2. What is the value of a dictionary value with the key 'foo' and the value 42?\n"
   ]
  },
  {
   "cell_type": "markdown",
   "id": "4446027f",
   "metadata": {},
   "source": [
    "The value of a dictionary value with the key 'foo' and the value 42 is"
   ]
  },
  {
   "cell_type": "code",
   "execution_count": 3,
   "id": "f3361bc3",
   "metadata": {},
   "outputs": [
    {
     "data": {
      "text/plain": [
       "{'foo': 42}"
      ]
     },
     "execution_count": 3,
     "metadata": {},
     "output_type": "execute_result"
    }
   ],
   "source": [
    "a = {'foo':42}\n",
    "a"
   ]
  },
  {
   "cell_type": "markdown",
   "id": "d1901572",
   "metadata": {},
   "source": [
    "### 3. What is the most significant distinction between a dictionary and a list?\n"
   ]
  },
  {
   "cell_type": "markdown",
   "id": "3cf864d2",
   "metadata": {},
   "source": [
    "The most significant distinction betwee a dictionary and a list is in their representation. Dictionaries are represented by {} whereas a list is represented by [], also the items stored in dictionary are unordered whereas in list items are ordered."
   ]
  },
  {
   "cell_type": "markdown",
   "id": "2c4a26a8",
   "metadata": {},
   "source": [
    "### 4. What happens if you try to access spam['foo'] if spam is {'bar': 100}?\n"
   ]
  },
  {
   "cell_type": "code",
   "execution_count": null,
   "id": "f1f1d3af",
   "metadata": {},
   "outputs": [],
   "source": [
    "We can practically find out that:"
   ]
  },
  {
   "cell_type": "code",
   "execution_count": 4,
   "id": "3c7fb162",
   "metadata": {},
   "outputs": [],
   "source": [
    "spam = {'bar':100}"
   ]
  },
  {
   "cell_type": "code",
   "execution_count": 5,
   "id": "ec9e7358",
   "metadata": {},
   "outputs": [
    {
     "ename": "KeyError",
     "evalue": "'foo'",
     "output_type": "error",
     "traceback": [
      "\u001b[1;31m---------------------------------------------------------------------------\u001b[0m",
      "\u001b[1;31mKeyError\u001b[0m                                  Traceback (most recent call last)",
      "\u001b[1;32m~\\AppData\\Local\\Temp/ipykernel_12784/3999281786.py\u001b[0m in \u001b[0;36m<module>\u001b[1;34m\u001b[0m\n\u001b[1;32m----> 1\u001b[1;33m \u001b[0mspam\u001b[0m\u001b[1;33m[\u001b[0m\u001b[1;34m'foo'\u001b[0m\u001b[1;33m]\u001b[0m\u001b[1;33m\u001b[0m\u001b[1;33m\u001b[0m\u001b[0m\n\u001b[0m",
      "\u001b[1;31mKeyError\u001b[0m: 'foo'"
     ]
    }
   ],
   "source": [
    "spam['foo']"
   ]
  },
  {
   "cell_type": "markdown",
   "id": "653201ec",
   "metadata": {},
   "source": [
    "Here we are getting keyvalue error as there is no key named foo present in the dictionary."
   ]
  },
  {
   "cell_type": "markdown",
   "id": "787be376",
   "metadata": {},
   "source": [
    "### 5. If a dictionary is stored in spam, what is the difference between the expressions 'cat' in spam and 'cat' in spam.keys()?\n"
   ]
  },
  {
   "cell_type": "markdown",
   "id": "1a36f1d7",
   "metadata": {},
   "source": [
    "There is no difference as the operator checks whether a value exits as a key in the dictionary or not."
   ]
  },
  {
   "cell_type": "code",
   "execution_count": 6,
   "id": "ddbea681",
   "metadata": {},
   "outputs": [],
   "source": [
    "spam ={'cat':4}"
   ]
  },
  {
   "cell_type": "code",
   "execution_count": 10,
   "id": "5d9b5cbe",
   "metadata": {},
   "outputs": [
    {
     "data": {
      "text/plain": [
       "{'cat': 4}"
      ]
     },
     "execution_count": 10,
     "metadata": {},
     "output_type": "execute_result"
    }
   ],
   "source": [
    "spam"
   ]
  },
  {
   "cell_type": "code",
   "execution_count": 9,
   "id": "92bb75b2",
   "metadata": {},
   "outputs": [
    {
     "data": {
      "text/plain": [
       "dict_keys(['cat'])"
      ]
     },
     "execution_count": 9,
     "metadata": {},
     "output_type": "execute_result"
    }
   ],
   "source": [
    "spam.keys()"
   ]
  },
  {
   "cell_type": "markdown",
   "id": "8cece330",
   "metadata": {},
   "source": [
    "### 6. If a dictionary is stored in spam, what is the difference between the expressions 'cat' in spam and 'cat' in spam.values()?\n"
   ]
  },
  {
   "cell_type": "markdown",
   "id": "b150f90e",
   "metadata": {},
   "source": [
    "cat in spam checks whether there is such key present in the dictionary. But cat in spam.values() checks whether there is a value cat for a key in dictionary."
   ]
  },
  {
   "cell_type": "markdown",
   "id": "1d2f5869",
   "metadata": {},
   "source": [
    "### 7. What is a shortcut for the following code?\n",
    "if 'color' not in spam:\n",
    "spam['color'] = 'black'\n"
   ]
  },
  {
   "cell_type": "code",
   "execution_count": 15,
   "id": "a360dcdd",
   "metadata": {},
   "outputs": [],
   "source": [
    "spam['color'] = spam.get('color','black')"
   ]
  },
  {
   "cell_type": "code",
   "execution_count": 16,
   "id": "e6e913e0",
   "metadata": {},
   "outputs": [
    {
     "data": {
      "text/plain": [
       "{'color': 'black'}"
      ]
     },
     "execution_count": 16,
     "metadata": {},
     "output_type": "execute_result"
    }
   ],
   "source": [
    "spam"
   ]
  },
  {
   "cell_type": "markdown",
   "id": "dedfd430",
   "metadata": {},
   "source": [
    "we can use spam.get() for adding key value pair if it is not present."
   ]
  },
  {
   "cell_type": "markdown",
   "id": "f54e0aa1",
   "metadata": {},
   "source": [
    "\n",
    "### 8. How do you \"pretty print\" dictionary values using which module and function?"
   ]
  },
  {
   "cell_type": "code",
   "execution_count": 47,
   "id": "1e8d83e6",
   "metadata": {},
   "outputs": [],
   "source": [
    "import pprint\n",
    "import yaml\n",
    "import json\n",
    "\n",
    "a = [{'Name':'shashi shekhar','Age':22, 'country':'India','moreinfo':{'city':'patna','food':'litti chokha'}},\n",
    "     {'Name':'djfhjdsh','Age':26, 'country':'usa'},\n",
    "     {'Name':'46546','Age':22, 'country':'spain'},\n",
    "     {'Name':'dfdf','Age':22, 'country':'germany'},\n",
    "     {'Name':'dsfsdfsdfdf','Age':99, 'country':'usa'}\n",
    "    ]"
   ]
  },
  {
   "cell_type": "code",
   "execution_count": 48,
   "id": "1f9018ff",
   "metadata": {},
   "outputs": [
    {
     "name": "stdout",
     "output_type": "stream",
     "text": [
      "[{'Age': 22,\n",
      "  'Name': 'shashi shekhar',\n",
      "  'country': 'India',\n",
      "  'moreinfo': {'city': 'patna', 'food': 'litti chokha'}},\n",
      " {'Age': 26, 'Name': 'djfhjdsh', 'country': 'usa'},\n",
      " {'Age': 22, 'Name': '46546', 'country': 'spain'},\n",
      " {'Age': 22, 'Name': 'dfdf', 'country': 'germany'},\n",
      " {'Age': 99, 'Name': 'dsfsdfsdfdf', 'country': 'usa'}]\n"
     ]
    }
   ],
   "source": [
    "pprint.pprint(a)"
   ]
  },
  {
   "cell_type": "code",
   "execution_count": 49,
   "id": "2c26ab54",
   "metadata": {},
   "outputs": [
    {
     "name": "stdout",
     "output_type": "stream",
     "text": [
      "[{'Name': 'shashi shekhar', 'Age': 22, 'country': 'India', 'moreinfo': {'city': 'patna', 'food': 'litti chokha'}}, {'Name': 'djfhjdsh', 'Age': 26, 'country': 'usa'}, {'Name': '46546', 'Age': 22, 'country': 'spain'}, {'Name': 'dfdf', 'Age': 22, 'country': 'germany'}, {'Name': 'dsfsdfsdfdf', 'Age': 99, 'country': 'usa'}]\n"
     ]
    }
   ],
   "source": [
    "print(a)"
   ]
  },
  {
   "cell_type": "code",
   "execution_count": 50,
   "id": "a5ea41c0",
   "metadata": {},
   "outputs": [],
   "source": [
    "n= yaml.dump(a) #using dump"
   ]
  },
  {
   "cell_type": "code",
   "execution_count": 51,
   "id": "c84fd3e8",
   "metadata": {},
   "outputs": [
    {
     "name": "stdout",
     "output_type": "stream",
     "text": [
      "- Age: 22\n",
      "  Name: shashi shekhar\n",
      "  country: India\n",
      "  moreinfo:\n",
      "    city: patna\n",
      "    food: litti chokha\n",
      "- Age: 26\n",
      "  Name: djfhjdsh\n",
      "  country: usa\n",
      "- Age: 22\n",
      "  Name: '46546'\n",
      "  country: spain\n",
      "- Age: 22\n",
      "  Name: dfdf\n",
      "  country: germany\n",
      "- Age: 99\n",
      "  Name: dsfsdfsdfdf\n",
      "  country: usa\n",
      "\n"
     ]
    }
   ],
   "source": [
    "print(n)"
   ]
  },
  {
   "cell_type": "code",
   "execution_count": 52,
   "id": "f50f3bab",
   "metadata": {},
   "outputs": [],
   "source": [
    "k = json.dumps(a, indent =0)"
   ]
  },
  {
   "cell_type": "code",
   "execution_count": 54,
   "id": "2e3c066e",
   "metadata": {},
   "outputs": [
    {
     "name": "stdout",
     "output_type": "stream",
     "text": [
      "[\n",
      "{\n",
      "\"Name\": \"shashi shekhar\",\n",
      "\"Age\": 22,\n",
      "\"country\": \"India\",\n",
      "\"moreinfo\": {\n",
      "\"city\": \"patna\",\n",
      "\"food\": \"litti chokha\"\n",
      "}\n",
      "},\n",
      "{\n",
      "\"Name\": \"djfhjdsh\",\n",
      "\"Age\": 26,\n",
      "\"country\": \"usa\"\n",
      "},\n",
      "{\n",
      "\"Name\": \"46546\",\n",
      "\"Age\": 22,\n",
      "\"country\": \"spain\"\n",
      "},\n",
      "{\n",
      "\"Name\": \"dfdf\",\n",
      "\"Age\": 22,\n",
      "\"country\": \"germany\"\n",
      "},\n",
      "{\n",
      "\"Name\": \"dsfsdfsdfdf\",\n",
      "\"Age\": 99,\n",
      "\"country\": \"usa\"\n",
      "}\n",
      "]\n"
     ]
    }
   ],
   "source": [
    "print(k)"
   ]
  },
  {
   "cell_type": "code",
   "execution_count": null,
   "id": "7428694b",
   "metadata": {},
   "outputs": [],
   "source": []
  }
 ],
 "metadata": {
  "kernelspec": {
   "display_name": "Python 3 (ipykernel)",
   "language": "python",
   "name": "python3"
  },
  "language_info": {
   "codemirror_mode": {
    "name": "ipython",
    "version": 3
   },
   "file_extension": ".py",
   "mimetype": "text/x-python",
   "name": "python",
   "nbconvert_exporter": "python",
   "pygments_lexer": "ipython3",
   "version": "3.9.7"
  }
 },
 "nbformat": 4,
 "nbformat_minor": 5
}
