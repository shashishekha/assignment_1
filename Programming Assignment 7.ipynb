{
 "cells": [
  {
   "cell_type": "markdown",
   "id": "f6f106ed",
   "metadata": {},
   "source": [
    "### 1.Write a Python Program to find sum of array?\n",
    "\n"
   ]
  },
  {
   "cell_type": "code",
   "execution_count": 13,
   "id": "3f871043",
   "metadata": {},
   "outputs": [
    {
     "name": "stdout",
     "output_type": "stream",
     "text": [
      "Size of an array: 6\n",
      "1\n",
      "2\n",
      "3\n",
      "4\n",
      "5\n",
      "6\n",
      "[1, 2, 3, 4, 5, 6]\n",
      "21\n"
     ]
    }
   ],
   "source": [
    "'''Program to find the sum of an array.'''\n",
    "n = int(input(\"Size of an array: \"))\n",
    "lst = []\n",
    "add = 0\n",
    "for i in range(0,n):\n",
    "    ele = int(input())\n",
    "    lst.append(ele)\n",
    "print(lst)\n",
    "for i in lst:\n",
    "    add = add+i\n",
    "print(add)"
   ]
  },
  {
   "cell_type": "markdown",
   "id": "f3371ed2",
   "metadata": {},
   "source": [
    "### 2.Write a Python Program to find largest element in an array?\n"
   ]
  },
  {
   "cell_type": "code",
   "execution_count": 18,
   "id": "e165a695",
   "metadata": {},
   "outputs": [
    {
     "name": "stdout",
     "output_type": "stream",
     "text": [
      "Enter the number.3\n",
      "2\n",
      "3\n",
      "5\n",
      "the largest element in the array is 5\n"
     ]
    }
   ],
   "source": [
    "n= int(input(\"Enter the number.\"))\n",
    "lst=[]\n",
    "k=-1\n",
    "for i in range(n):\n",
    "    ele = int(input())\n",
    "    lst.append(ele)\n",
    "for i in lst:\n",
    "    if(i>k):\n",
    "        k=i\n",
    "print(f'the largest element in the array is {k}')\n"
   ]
  },
  {
   "cell_type": "markdown",
   "id": "097124ed",
   "metadata": {},
   "source": [
    "### 3.Write a Python Program for array rotation?\n"
   ]
  },
  {
   "cell_type": "code",
   "execution_count": 22,
   "id": "4d76daf8",
   "metadata": {},
   "outputs": [
    {
     "name": "stdout",
     "output_type": "stream",
     "text": [
      "Enter the size of an array.2\n",
      "give value for rotating arrary the number of times.1\n",
      "1\n",
      "2\n",
      "2\n",
      "1\n"
     ]
    }
   ],
   "source": [
    "'''Program to left rotate the array by d times.'''\n",
    "n=int(input(\"Enter the size of an array.\"))\n",
    "d=int(input(\"give value for rotating arrary the number of times.\"))\n",
    "lst=[]\n",
    "mod = d%n\n",
    "for i in range(n):\n",
    "    ele=int(input())\n",
    "    lst.append(ele)\n",
    "for i in range(n):\n",
    "    print (lst[(mod+i)%n])\n",
    "    \n",
    "    \n",
    "\n",
    "\n",
    "\n"
   ]
  },
  {
   "cell_type": "markdown",
   "id": "617e6648",
   "metadata": {},
   "source": [
    "### 4.Write a Python Program to Split the array and add the first part to the end?\n"
   ]
  },
  {
   "cell_type": "code",
   "execution_count": null,
   "id": "d9dc3cdd",
   "metadata": {},
   "outputs": [],
   "source": [
    "'''Program to split the array by d and add the first part to the end.'''\n",
    "n=int(input(\"Enter the size of an array.\"))\n",
    "d=int(input(\"give value for rotating arrary the number of times.\"))\n",
    "lst=[]\n",
    "mod = d%n\n",
    "for i in range(n):\n",
    "    ele=int(input())\n",
    "    lst.append(ele)\n",
    "for i in range(n):\n",
    "    print (lst[(mod+i)%n])"
   ]
  },
  {
   "cell_type": "markdown",
   "id": "7dde8282",
   "metadata": {},
   "source": [
    "### 5.Write a Python Program to check if given array is Monotonic?"
   ]
  },
  {
   "cell_type": "markdown",
   "id": "510aaa24",
   "metadata": {},
   "source": [
    "An array is said to be monotonic if it is either continuously increasing or continuously decreasing."
   ]
  },
  {
   "cell_type": "code",
   "execution_count": 46,
   "id": "5c1c050e",
   "metadata": {},
   "outputs": [
    {
     "name": "stdout",
     "output_type": "stream",
     "text": [
      "Enter the size of an array.4\n",
      "4\n",
      "3\n",
      "2\n",
      "1\n",
      "true\n"
     ]
    }
   ],
   "source": [
    "'''Program to find whether given array is monotonic or not.'''\n",
    "n=int(input(\"Enter the size of an array.\"))\n",
    "flag=0\n",
    "count=0\n",
    "lst=[]\n",
    "for i in range(n):\n",
    "    ele=int(input())\n",
    "    lst.append(ele)\n",
    "for i in range(n-1):\n",
    "    if lst[i]<=lst[i+1]:\n",
    "        count=count+1\n",
    "    if lst[i]>=lst[i+1]:\n",
    "        flag = flag+1\n",
    "if(((count==0) and (flag==n-1)) or (count==n-1) and (flag==0)):\n",
    "    print(\"true\")\n",
    "else:\n",
    "    print(\"false\")\n",
    "\n",
    "    \n",
    "        "
   ]
  },
  {
   "cell_type": "markdown",
   "id": "92e1de3a",
   "metadata": {},
   "source": []
  }
 ],
 "metadata": {
  "kernelspec": {
   "display_name": "Python 3 (ipykernel)",
   "language": "python",
   "name": "python3"
  },
  "language_info": {
   "codemirror_mode": {
    "name": "ipython",
    "version": 3
   },
   "file_extension": ".py",
   "mimetype": "text/x-python",
   "name": "python",
   "nbconvert_exporter": "python",
   "pygments_lexer": "ipython3",
   "version": "3.9.7"
  }
 },
 "nbformat": 4,
 "nbformat_minor": 5
}
