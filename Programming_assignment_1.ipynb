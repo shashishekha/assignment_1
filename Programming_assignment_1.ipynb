{
 "cells": [
  {
   "cell_type": "markdown",
   "id": "a78a41b9",
   "metadata": {},
   "source": [
    "### 1.Write a Python program to print \"Hello Python\"?"
   ]
  },
  {
   "cell_type": "code",
   "execution_count": 1,
   "id": "ddad7011",
   "metadata": {},
   "outputs": [
    {
     "name": "stdout",
     "output_type": "stream",
     "text": [
      "Hello Python\n"
     ]
    }
   ],
   "source": [
    "'''Program to print Hello python'''\n",
    "print(\"Hello Python\")"
   ]
  },
  {
   "cell_type": "markdown",
   "id": "261626f0",
   "metadata": {},
   "source": [
    "### 2.Write a Python program to do arithmetical operations addition and division.\n"
   ]
  },
  {
   "cell_type": "code",
   "execution_count": 2,
   "id": "67860503",
   "metadata": {},
   "outputs": [
    {
     "name": "stdout",
     "output_type": "stream",
     "text": [
      "6\n",
      "7\n",
      "the addition is 13\n",
      "the multiplication is : 42\n"
     ]
    }
   ],
   "source": [
    "def add(a,b):\n",
    "    return a+b\n",
    "def mul(a,b):\n",
    "    return a*b\n",
    "\n",
    "a=int(input())\n",
    "b=int(input())\n",
    "print(\"the addition is\",add(a,b))\n",
    "print(\"the multiplication is :\",mul(a,b))"
   ]
  },
  {
   "cell_type": "markdown",
   "id": "0d945b69",
   "metadata": {},
   "source": [
    "### 3.Write a Python program to find the area of a triangle?"
   ]
  },
  {
   "cell_type": "code",
   "execution_count": 6,
   "id": "a8681166",
   "metadata": {},
   "outputs": [
    {
     "name": "stdout",
     "output_type": "stream",
     "text": [
      "4\n",
      "5\n",
      "the area of triangle is: 10.0\n"
     ]
    }
   ],
   "source": [
    "def area(b,h):\n",
    "    '''Function to find area of triangle.'''\n",
    "    return (b*h)/2\n",
    "\n",
    "base = int(input())\n",
    "height=int(input())\n",
    "\n",
    "print(\"the area of triangle is:\",area(base,height))"
   ]
  },
  {
   "cell_type": "markdown",
   "id": "ca67688f",
   "metadata": {},
   "source": [
    "### 4.Write a Python program to swap two variables?"
   ]
  },
  {
   "cell_type": "code",
   "execution_count": 8,
   "id": "208c2101",
   "metadata": {},
   "outputs": [
    {
     "name": "stdout",
     "output_type": "stream",
     "text": [
      "4\n",
      "5\n",
      "(5, 4)\n"
     ]
    }
   ],
   "source": [
    "\n",
    "a= int(input())\n",
    "b= int(input())\n",
    "def swap(a,b):\n",
    "    '''function to swap two variable without using third variable.'''\n",
    "    a=a+b \n",
    "    b=a-b\n",
    "    a=a-b\n",
    "    return a,b\n",
    "print(swap(a,b))"
   ]
  },
  {
   "cell_type": "markdown",
   "id": "dc440fa8",
   "metadata": {},
   "source": [
    "### 5.Write a Python program to generate a random number?"
   ]
  },
  {
   "cell_type": "code",
   "execution_count": 10,
   "id": "45f33f95",
   "metadata": {},
   "outputs": [
    {
     "name": "stdout",
     "output_type": "stream",
     "text": [
      "0\n",
      "10\n",
      "4\n"
     ]
    }
   ],
   "source": [
    "a=int(input())\n",
    "b=int(input())\n",
    "import random\n",
    "def generateRandomNumber(a,b):\n",
    "    '''Function to generate random number.'''\n",
    "    return (random.randint(a,b));\n",
    "    \n",
    "print(generateRandomNumber(a,b))"
   ]
  },
  {
   "cell_type": "code",
   "execution_count": null,
   "id": "2bfab8c9",
   "metadata": {},
   "outputs": [],
   "source": []
  }
 ],
 "metadata": {
  "kernelspec": {
   "display_name": "Python 3 (ipykernel)",
   "language": "python",
   "name": "python3"
  },
  "language_info": {
   "codemirror_mode": {
    "name": "ipython",
    "version": 3
   },
   "file_extension": ".py",
   "mimetype": "text/x-python",
   "name": "python",
   "nbconvert_exporter": "python",
   "pygments_lexer": "ipython3",
   "version": "3.9.7"
  }
 },
 "nbformat": 4,
 "nbformat_minor": 5
}
