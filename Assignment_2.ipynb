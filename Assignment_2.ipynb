{
 "cells": [
  {
   "cell_type": "markdown",
   "id": "e3c1a088",
   "metadata": {},
   "source": [
    "1.What are the two values of the Boolean data type? How do you write them?"
   ]
  },
  {
   "cell_type": "markdown",
   "id": "dc43c9c1",
   "metadata": {},
   "source": [
    "The two values of the boolean data type are:\n",
    "         1.True\n",
    "         2.False\n",
    "\n",
    "we can write them as:"
   ]
  },
  {
   "cell_type": "code",
   "execution_count": 3,
   "id": "6ccf58af",
   "metadata": {},
   "outputs": [
    {
     "name": "stdout",
     "output_type": "stream",
     "text": [
      "False\n",
      "True\n"
     ]
    }
   ],
   "source": [
    "a = 10\n",
    "b = 20\n",
    "print(bool(a==b))\n",
    "print(bool(a!=b))"
   ]
  },
  {
   "cell_type": "code",
   "execution_count": 6,
   "id": "31cbd64d",
   "metadata": {},
   "outputs": [
    {
     "name": "stdout",
     "output_type": "stream",
     "text": [
      "False\n"
     ]
    }
   ],
   "source": [
    "a = True\n",
    "b = False\n",
    "\n",
    "if a == b:\n",
    "    print(\"True\")\n",
    "else:\n",
    "    print(\"False\")\n"
   ]
  },
  {
   "cell_type": "markdown",
   "id": "ec7aa489",
   "metadata": {},
   "source": [
    "2. What are the three different types of Boolean operators?"
   ]
  },
  {
   "cell_type": "markdown",
   "id": "ab90fab4",
   "metadata": {},
   "source": [
    "The three different type of boolean operators are: and, or , not."
   ]
  },
  {
   "cell_type": "code",
   "execution_count": 8,
   "id": "4c0455f7",
   "metadata": {},
   "outputs": [
    {
     "name": "stdout",
     "output_type": "stream",
     "text": [
      "True\n",
      "True\n",
      "False\n"
     ]
    }
   ],
   "source": [
    "a = 10\n",
    "b= 20\n",
    "print(bool(a and b))\n",
    "print(bool(a or b))\n",
    "print(bool(not a))"
   ]
  },
  {
   "cell_type": "markdown",
   "id": "8da753b9",
   "metadata": {},
   "source": [
    "3. Make a list of each Boolean operator's truth tables (i.e. every possible combination of Boolean values for the operator and what it evaluate )."
   ]
  },
  {
   "cell_type": "code",
   "execution_count": 33,
   "id": "8b97d859",
   "metadata": {},
   "outputs": [
    {
     "name": "stdout",
     "output_type": "stream",
     "text": [
      "0\n",
      "0\n",
      "0\n",
      "1\n",
      "0\n",
      "1\n",
      "1\n",
      "1\n",
      "True\n",
      "False\n"
     ]
    }
   ],
   "source": [
    "print(0 and 0)\n",
    "print(0 and 1)\n",
    "print(1 and 0)\n",
    "print(1 and 1)\n",
    "\n",
    "print(0 or 0)\n",
    "print(0 or 1)\n",
    "print(1 or 0)\n",
    "print(1 or 1)\n",
    "\n",
    "print(not 0)\n",
    "print(not 1)"
   ]
  },
  {
   "cell_type": "markdown",
   "id": "143d30a5",
   "metadata": {},
   "source": [
    "4. What are the values of the following expressions?\n",
    "(5 > 4) and (3 == 5)\n",
    "not (5 > 4)\n",
    "(5 > 4) or (3 == 5)\n",
    "not ((5 > 4) or (3 == 5))\n",
    "(True and True) and (True == False)\n",
    "(not False) or (not True)\n"
   ]
  },
  {
   "cell_type": "code",
   "execution_count": 31,
   "id": "a4472acb",
   "metadata": {},
   "outputs": [
    {
     "name": "stdout",
     "output_type": "stream",
     "text": [
      "False\n",
      "False\n",
      "True\n",
      "False\n",
      "True\n"
     ]
    }
   ],
   "source": [
    "#4.answer: \n",
    "\n",
    "print((5>4) and (3==5)) #False\n",
    "print(not(5>4)) #False\n",
    "print((5>4) or (3==5)) #True\n",
    "print((True and True) and (True == False)) #False\n",
    "print((not False) or (not True)) #True"
   ]
  },
  {
   "cell_type": "markdown",
   "id": "e5f6f625",
   "metadata": {},
   "source": [
    "5. What are the six comparison operators?"
   ]
  },
  {
   "cell_type": "markdown",
   "id": "fd214452",
   "metadata": {},
   "source": [
    "5.answer:  The six comparison operators are: equal to(==), not equal to(!=), greater than(>), greater than or equal to(>=), less than(<), less than or equal to(<=)."
   ]
  },
  {
   "cell_type": "markdown",
   "id": "4fec1087",
   "metadata": {},
   "source": [
    "6. How do you tell the difference between the equal to and assignment operators?Describe a condition and when you would use one."
   ]
  },
  {
   "cell_type": "markdown",
   "id": "21d91381",
   "metadata": {},
   "source": [
    "6.answer: Yes there is a difference between the equal to and assignment operators. The equal to basically checks whether the values are equal or not. while the assignment operator assigns the value to the variable. for example:"
   ]
  },
  {
   "cell_type": "code",
   "execution_count": 11,
   "id": "22344114",
   "metadata": {},
   "outputs": [
    {
     "data": {
      "text/plain": [
       "True"
      ]
     },
     "execution_count": 11,
     "metadata": {},
     "output_type": "execute_result"
    }
   ],
   "source": [
    "a = 10 #here we assigned value 10 to variable a.\n",
    "b = 10\n",
    "a==b  #here we have used equal to operator to check whether both are same or not."
   ]
  },
  {
   "cell_type": "markdown",
   "id": "8da97b4d",
   "metadata": {},
   "source": [
    "7. Identify the three blocks in this code:\n",
    "spam = 0\n",
    "if spam == 10:\n",
    "print('eggs')\n",
    "if spam > 5:\n",
    "print('bacon')\n",
    "else:\n",
    "print('ham')\n",
    "print('spam')\n",
    "print('spam')\n"
   ]
  },
  {
   "cell_type": "code",
   "execution_count": 14,
   "id": "279215bf",
   "metadata": {},
   "outputs": [
    {
     "name": "stdout",
     "output_type": "stream",
     "text": [
      "ham\n",
      "spam\n",
      "spam\n"
     ]
    }
   ],
   "source": [
    "    spam =0\n",
    "#first block:\n",
    "    if spam == 10:\n",
    "        print('eggs')\n",
    "#second block:\n",
    "    if spam > 5:\n",
    "        print('bacon')\n",
    "#third block:\n",
    "    else:\n",
    "        print('ham')\n",
    "        print('spam')\n",
    "        print('spam')"
   ]
  },
  {
   "cell_type": "markdown",
   "id": "21682bc9",
   "metadata": {},
   "source": [
    "8. Write code that prints Hello if 1 is stored in spam, prints Howdy if 2 is stored in spam, and prints Greetings! if anything else is stored in spam."
   ]
  },
  {
   "cell_type": "code",
   "execution_count": 16,
   "id": "72d0e10a",
   "metadata": {},
   "outputs": [
    {
     "name": "stdout",
     "output_type": "stream",
     "text": [
      "50\n",
      "Greetings!\n"
     ]
    }
   ],
   "source": [
    "#8.answer: \n",
    "spam = int(input())\n",
    "if(spam == 1):\n",
    "    print('Hello')\n",
    "elif(spam == 2):\n",
    "    print('Howdy')\n",
    "else:\n",
    "    print('Greetings!')"
   ]
  },
  {
   "cell_type": "markdown",
   "id": "8db893b5",
   "metadata": {},
   "source": [
    "9.If your programme is stuck in an endless loop, what keys you’ll press?"
   ]
  },
  {
   "cell_type": "markdown",
   "id": "92a6ea5d",
   "metadata": {},
   "source": [
    "9.answer :\n",
    "Ctrl+C"
   ]
  },
  {
   "cell_type": "markdown",
   "id": "443d5dcb",
   "metadata": {},
   "source": [
    "10. How can you tell the difference between break and continue?"
   ]
  },
  {
   "cell_type": "markdown",
   "id": "66f9bdb2",
   "metadata": {},
   "source": [
    "10.answer: \n",
    "\n",
    "break : It stops the execution of remaining iteration of loop. It breaks the loop and the control is outside the loop. \n",
    "continue : It stops the current iteration of loop. The continue give control to the program to next iteration of that loop which encloses continue. example:"
   ]
  },
  {
   "cell_type": "code",
   "execution_count": 25,
   "id": "5dd0afa7",
   "metadata": {},
   "outputs": [
    {
     "name": "stdout",
     "output_type": "stream",
     "text": [
      "0\n",
      "1\n",
      "2\n",
      "4\n",
      "5\n",
      "6\n",
      "7\n"
     ]
    }
   ],
   "source": [
    "a =10 \n",
    "for i in range(a):\n",
    "    if(i==3):\n",
    "        continue\n",
    "    elif(i==8):\n",
    "        break\n",
    "    else:\n",
    "        print(i)"
   ]
  },
  {
   "cell_type": "markdown",
   "id": "61e09143",
   "metadata": {},
   "source": [
    "11. In a for loop, what is the difference between range(10), range(0, 10), and range(0, 10, 1)?"
   ]
  },
  {
   "cell_type": "markdown",
   "id": "504f6fd4",
   "metadata": {},
   "source": [
    "11. answer: \n",
    "\n",
    "The range() function can have three parameter. range(start, stop, step).\n",
    "range(10) means that it will start from 0 to 9.\n",
    "range(0,10) means that it will start from 0 to 9. \n",
    "range(0,10,1) meanst that it will start from 0 to 9 with step equals to 1. \n",
    "There is no difference in the result . \n",
    "for example"
   ]
  },
  {
   "cell_type": "code",
   "execution_count": 26,
   "id": "a4fcbd02",
   "metadata": {},
   "outputs": [
    {
     "name": "stdout",
     "output_type": "stream",
     "text": [
      "0\n",
      "1\n",
      "2\n",
      "3\n",
      "4\n",
      "5\n",
      "6\n",
      "7\n",
      "8\n",
      "9\n",
      "\n",
      "\n",
      "0\n",
      "1\n",
      "2\n",
      "3\n",
      "4\n",
      "5\n",
      "6\n",
      "7\n",
      "8\n",
      "9\n",
      "\n",
      "\n",
      "0\n",
      "1\n",
      "2\n",
      "3\n",
      "4\n",
      "5\n",
      "6\n",
      "7\n",
      "8\n",
      "9\n",
      "\n",
      "\n"
     ]
    }
   ],
   "source": [
    "a=10\n",
    "for i in range(10):\n",
    "    print(i)\n",
    "print(\"\\n\")\n",
    "for i in range(0,10):\n",
    "    print(i)\n",
    "print(\"\\n\")\n",
    "for i in range(0,10,1):\n",
    "    print(i)\n",
    "print(\"\\n\")"
   ]
  },
  {
   "cell_type": "markdown",
   "id": "a6c82763",
   "metadata": {},
   "source": [
    "12. Write a short program that prints the numbers 1 to 10 using a for loop. Then write an equivalent program that prints the numbers 1 to 10 using a while loop."
   ]
  },
  {
   "cell_type": "code",
   "execution_count": 28,
   "id": "b9d6bb93",
   "metadata": {},
   "outputs": [
    {
     "name": "stdout",
     "output_type": "stream",
     "text": [
      "1\n",
      "2\n",
      "3\n",
      "4\n",
      "5\n",
      "6\n",
      "7\n",
      "8\n",
      "9\n",
      "10\n",
      "\n",
      "\n",
      "1\n",
      "2\n",
      "3\n",
      "4\n",
      "5\n",
      "6\n",
      "7\n",
      "8\n",
      "9\n",
      "10\n"
     ]
    }
   ],
   "source": [
    "for i in range(1,11):\n",
    "    print(i)\n",
    "print(\"\\n\")\n",
    "\n",
    "i=1\n",
    "while(i<11):\n",
    "    print(i)\n",
    "    i+=1"
   ]
  },
  {
   "cell_type": "markdown",
   "id": "951d6297",
   "metadata": {},
   "source": [
    "13. If you had a function named bacon() inside a module named spam, how would you call it after importing spam?"
   ]
  },
  {
   "cell_type": "markdown",
   "id": "a1c68f9f",
   "metadata": {},
   "source": [
    "13.ans: \n",
    "\n",
    "import spam\n",
    "\n",
    "spam.bacon()       "
   ]
  },
  {
   "cell_type": "code",
   "execution_count": null,
   "id": "40f16cd0",
   "metadata": {},
   "outputs": [],
   "source": []
  }
 ],
 "metadata": {
  "kernelspec": {
   "display_name": "Python 3 (ipykernel)",
   "language": "python",
   "name": "python3"
  },
  "language_info": {
   "codemirror_mode": {
    "name": "ipython",
    "version": 3
   },
   "file_extension": ".py",
   "mimetype": "text/x-python",
   "name": "python",
   "nbconvert_exporter": "python",
   "pygments_lexer": "ipython3",
   "version": "3.9.7"
  }
 },
 "nbformat": 4,
 "nbformat_minor": 5
}
