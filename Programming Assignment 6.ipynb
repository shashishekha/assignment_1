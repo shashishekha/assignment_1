{
 "cells": [
  {
   "cell_type": "markdown",
   "id": "b4cfb639",
   "metadata": {},
   "source": [
    "### 1.Write a Python Program to Display Fibonacci Sequence Using Recursion?\n",
    "\n"
   ]
  },
  {
   "cell_type": "code",
   "execution_count": 5,
   "id": "828d01bb",
   "metadata": {},
   "outputs": [
    {
     "name": "stdout",
     "output_type": "stream",
     "text": [
      "Enter the value of num:5\n",
      "0\n",
      "1\n",
      "1\n",
      "2\n",
      "3\n"
     ]
    }
   ],
   "source": [
    "def fibonacci(num):\n",
    "    '''Function to find fibonacci sequence.'''\n",
    "    if(num==0):\n",
    "        return 0\n",
    "    \n",
    "    if(num==1):\n",
    "        return 1\n",
    "    return fibonacci(num-1)+fibonacci(num-2)\n",
    "num = int(input(\"Enter the value of num:\"))\n",
    "\n",
    "for i in range(num):\n",
    "    print(fibonacci(i))"
   ]
  },
  {
   "cell_type": "markdown",
   "id": "81395a23",
   "metadata": {},
   "source": [
    "### 2.Write a Python Program to Find Factorial of Number Using Recursion?\n"
   ]
  },
  {
   "cell_type": "code",
   "execution_count": 3,
   "id": "58d6d4da",
   "metadata": {},
   "outputs": [
    {
     "name": "stdout",
     "output_type": "stream",
     "text": [
      "Enter the value of num:3\n"
     ]
    },
    {
     "data": {
      "text/plain": [
       "6"
      ]
     },
     "execution_count": 3,
     "metadata": {},
     "output_type": "execute_result"
    }
   ],
   "source": [
    "def Factorial(num):\n",
    "    '''Function to find the factorial.'''\n",
    "    if(num==0 or num==1):\n",
    "        return num\n",
    "    return num*Factorial(num-1)\n",
    "\n",
    "num = int(input(\"Enter the value of num:\"))\n",
    "Factorial(num)"
   ]
  },
  {
   "cell_type": "markdown",
   "id": "51dea6e9",
   "metadata": {},
   "source": [
    "### 3.Write a Python Program to calculate your Body Mass Index?\n"
   ]
  },
  {
   "cell_type": "code",
   "execution_count": 8,
   "id": "752b557e",
   "metadata": {},
   "outputs": [
    {
     "name": "stdout",
     "output_type": "stream",
     "text": [
      "Enter weight of person in kg: 65\n",
      "Enter height of person in metre: 1.8\n"
     ]
    },
    {
     "data": {
      "text/plain": [
       "20.061728395061728"
      ]
     },
     "execution_count": 8,
     "metadata": {},
     "output_type": "execute_result"
    }
   ],
   "source": [
    "# BMI = Kg/m^2\n",
    "def BMI(weight, height):\n",
    "    '''Function to calculate BMI.'''\n",
    "    return weight/(height*height)\n",
    "weight= float(input(\"Enter weight of person in kg: \"))\n",
    "height = float(input(\"Enter height of person in metre: \"))\n",
    "BMI(weight, height)"
   ]
  },
  {
   "cell_type": "markdown",
   "id": "bdde9488",
   "metadata": {},
   "source": [
    "### 4.Write a Python Program to calculate the natural logarithm of any number?\n"
   ]
  },
  {
   "cell_type": "code",
   "execution_count": 10,
   "id": "28a19f74",
   "metadata": {},
   "outputs": [
    {
     "name": "stdout",
     "output_type": "stream",
     "text": [
      "Enter the number.2\n"
     ]
    },
    {
     "data": {
      "text/plain": [
       "0.6931471805599453"
      ]
     },
     "execution_count": 10,
     "metadata": {},
     "output_type": "execute_result"
    }
   ],
   "source": [
    "def calcLog(num):\n",
    "    '''Function to find natural log of a number.'''\n",
    "    import numpy\n",
    "    return numpy.log(num)\n",
    "num = int(input(\"Enter the number.\"))\n",
    "calcLog(num)"
   ]
  },
  {
   "cell_type": "markdown",
   "id": "3a703dc8",
   "metadata": {},
   "source": [
    "### 5.Write a Python Program for cube sum of first n natural numbers?"
   ]
  },
  {
   "cell_type": "code",
   "execution_count": 12,
   "id": "da816dc1",
   "metadata": {},
   "outputs": [
    {
     "name": "stdout",
     "output_type": "stream",
     "text": [
      "Enter the number.5\n"
     ]
    },
    {
     "data": {
      "text/plain": [
       "225"
      ]
     },
     "execution_count": 12,
     "metadata": {},
     "output_type": "execute_result"
    }
   ],
   "source": [
    "def cubeSum(n):\n",
    "    '''Function to find cube sum of first n natural numbers.'''\n",
    "    sum =0\n",
    "    for i in range(n+1):\n",
    "        sum= sum +(i*i*i)\n",
    "    return sum\n",
    "n=int(input(\"Enter the number.\"))\n",
    "cubeSum(n)"
   ]
  },
  {
   "cell_type": "code",
   "execution_count": null,
   "id": "797e58ac",
   "metadata": {},
   "outputs": [],
   "source": []
  }
 ],
 "metadata": {
  "kernelspec": {
   "display_name": "Python 3 (ipykernel)",
   "language": "python",
   "name": "python3"
  },
  "language_info": {
   "codemirror_mode": {
    "name": "ipython",
    "version": 3
   },
   "file_extension": ".py",
   "mimetype": "text/x-python",
   "name": "python",
   "nbconvert_exporter": "python",
   "pygments_lexer": "ipython3",
   "version": "3.9.7"
  }
 },
 "nbformat": 4,
 "nbformat_minor": 5
}
