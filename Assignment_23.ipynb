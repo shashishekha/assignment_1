{
 "cells": [
  {
   "cell_type": "markdown",
   "id": "e5d76c43",
   "metadata": {},
   "source": [
    "### 1. What is the result of the code, and why?\n",
    "\n",
    "\n"
   ]
  },
  {
   "cell_type": "code",
   "execution_count": null,
   "id": "6028753f",
   "metadata": {},
   "outputs": [],
   "source": [
    ">>> def func(a, b=6, c=8):\n",
    "print(a, b, c)\n",
    ">>> func(1, 2)"
   ]
  },
  {
   "cell_type": "code",
   "execution_count": 2,
   "id": "d1800758",
   "metadata": {},
   "outputs": [
    {
     "name": "stdout",
     "output_type": "stream",
     "text": [
      "1 2 8\n"
     ]
    }
   ],
   "source": [
    "#ANS: \n",
    "def func(a,b=6,c=8):\n",
    "    print(a,b,c)\n",
    "func(1,2)"
   ]
  },
  {
   "cell_type": "markdown",
   "id": "27011a1e",
   "metadata": {},
   "source": [
    "Here the result obtained is 1 2 8. This is because we are calling the function func(1,2) having two parameter.SO, these two is actually binding with a and b while there is no value passed for c but the default value is set for c that is 8. so 8 is considered if there is no value passed at third place."
   ]
  },
  {
   "cell_type": "markdown",
   "id": "84daaab1",
   "metadata": {},
   "source": [
    "### 2. What is the result of this code, and why?"
   ]
  },
  {
   "cell_type": "markdown",
   "id": "6fa07a85",
   "metadata": {},
   "source": [
    "\n",
    ">>> def func(a, b, c=5):\n",
    "print(a, b, c)\n",
    ">>> func(1, c=3, b=2)\n"
   ]
  },
  {
   "cell_type": "code",
   "execution_count": 3,
   "id": "d5e7ea13",
   "metadata": {},
   "outputs": [
    {
     "name": "stdout",
     "output_type": "stream",
     "text": [
      "1 2 3\n"
     ]
    }
   ],
   "source": [
    "def func(a, b, c=5):\n",
    "    print(a,b,c)\n",
    "func(1,c=3,b=2)"
   ]
  },
  {
   "cell_type": "markdown",
   "id": "457d02b9",
   "metadata": {},
   "source": [
    "Here the value that we got is 1 2 3.This is because the function uses the default values if values for argument is not given but here the values for argument is passed along with variable to which it should bind.So, the order of the arguments is also ignored by python interpreter."
   ]
  },
  {
   "cell_type": "markdown",
   "id": "57608a60",
   "metadata": {},
   "source": [
    "### 3. How about this code: what is its result, and why?"
   ]
  },
  {
   "cell_type": "markdown",
   "id": "4bce5d2a",
   "metadata": {},
   "source": [
    "\n",
    ">>> def func(a, *pargs):\n",
    "print(a, pargs)\n",
    ">>> func(1, 2, 3)\n"
   ]
  },
  {
   "cell_type": "code",
   "execution_count": 4,
   "id": "eafe1e29",
   "metadata": {},
   "outputs": [
    {
     "name": "stdout",
     "output_type": "stream",
     "text": [
      "1 (2, 3)\n"
     ]
    }
   ],
   "source": [
    "def func(a, *pargs):\n",
    "    print(a, pargs)\n",
    "func(1,2,3)"
   ]
  },
  {
   "cell_type": "markdown",
   "id": "387f9b73",
   "metadata": {},
   "source": [
    "This code gives us the result 1(2,3). This is because *pargs is used for variable length arguments.We use this when we are not sure about the no. of arguments to be passed to a function.So, all the values passed under this argument is stored in a tuple."
   ]
  },
  {
   "cell_type": "markdown",
   "id": "b6d2c36d",
   "metadata": {},
   "source": [
    "### 4. What does this code print, and why?"
   ]
  },
  {
   "cell_type": "markdown",
   "id": "eb79a34b",
   "metadata": {},
   "source": [
    "\n",
    ">>> def func(a, **kargs):\n",
    "print(a, kargs)\n",
    ">>> func(a=1, c=3, b=2)\n"
   ]
  },
  {
   "cell_type": "code",
   "execution_count": 5,
   "id": "abd60b89",
   "metadata": {},
   "outputs": [
    {
     "name": "stdout",
     "output_type": "stream",
     "text": [
      "1 {'c': 3, 'b': 2}\n"
     ]
    }
   ],
   "source": [
    "def func(a, **kwargs):\n",
    "    print(a, kwargs)\n",
    "func(a=1,c=3,b=2)"
   ]
  },
  {
   "cell_type": "markdown",
   "id": "c7b31cdd",
   "metadata": {},
   "source": [
    "The result obtained is 1{'c':3,'b':2}. This is because **args stands for variable length keyword arguments.We use this format when we want to pass key value pairs as input to a function. So, all these key value pairs are stored in a dictionary."
   ]
  },
  {
   "cell_type": "markdown",
   "id": "19c462a8",
   "metadata": {},
   "source": [
    "### 5. What gets printed by this, and explain?"
   ]
  },
  {
   "cell_type": "markdown",
   "id": "bf33eeaf",
   "metadata": {},
   "source": [
    "\n",
    ">>> def func(a, b, c=8, d=5): print(a, b, c, d)\n",
    ">>> func(1, *(5, 6))\n"
   ]
  },
  {
   "cell_type": "code",
   "execution_count": 6,
   "id": "67546390",
   "metadata": {},
   "outputs": [
    {
     "name": "stdout",
     "output_type": "stream",
     "text": [
      "1 5 6 5\n"
     ]
    }
   ],
   "source": [
    "def func(a,b,c=8,d=5):\n",
    "    print(a, b, c, d)\n",
    "func(1, *(5,6))"
   ]
  },
  {
   "cell_type": "markdown",
   "id": "784152dd",
   "metadata": {},
   "source": [
    "The result we got here is 1 5 6 5. The value for a is provided explicitly while for b and c the function will expand *(5,6) and consider the value of b as 5 and value of c as 6.And the default value for d is provided that is 5."
   ]
  },
  {
   "cell_type": "code",
   "execution_count": null,
   "id": "2c112648",
   "metadata": {},
   "outputs": [],
   "source": [
    "### 6. what is the result of this, and explain?"
   ]
  },
  {
   "cell_type": "markdown",
   "id": "77b4879d",
   "metadata": {},
   "source": [
    "\n",
    ">>> def func(a, b, c): a = 2; b[0] = 'x'; c['a'] = 'y'\n",
    ">>> l=1; m=[1]; n={'a':0}\n",
    ">>> func(l, m, n)\n",
    ">>> l, m, n"
   ]
  },
  {
   "cell_type": "code",
   "execution_count": 7,
   "id": "ca0f9bde",
   "metadata": {},
   "outputs": [
    {
     "data": {
      "text/plain": [
       "(1, ['x'], {'a': 'y'})"
      ]
     },
     "execution_count": 7,
     "metadata": {},
     "output_type": "execute_result"
    }
   ],
   "source": [
    "def func(a,b,c):\n",
    "    a=2\n",
    "    b[0] = 'x'\n",
    "    c['a'] = 'y'\n",
    "l =1; m=[1]; n={'a':0}\n",
    "func(l,m,n)\n",
    "l,m,n"
   ]
  },
  {
   "cell_type": "markdown",
   "id": "b02a7d1d",
   "metadata": {},
   "source": [
    "The result we obtained here is because:\n",
    "As we know the python follows indentaiton but it provides a facility to declare an entire function in one single line. Where statements in a function body are separated by ; . When l,m,n are provided as inputs to the function . It modifies the of l,m,n and the value becomes for l=2, m=['x']and n={'a':'y'}"
   ]
  }
 ],
 "metadata": {
  "kernelspec": {
   "display_name": "Python 3 (ipykernel)",
   "language": "python",
   "name": "python3"
  },
  "language_info": {
   "codemirror_mode": {
    "name": "ipython",
    "version": 3
   },
   "file_extension": ".py",
   "mimetype": "text/x-python",
   "name": "python",
   "nbconvert_exporter": "python",
   "pygments_lexer": "ipython3",
   "version": "3.9.7"
  }
 },
 "nbformat": 4,
 "nbformat_minor": 5
}
