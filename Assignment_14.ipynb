{
 "cells": [
  {
   "cell_type": "markdown",
   "id": "bc34a9a5",
   "metadata": {},
   "source": [
    "### 1. What does RGBA stand for?\n",
    "\n"
   ]
  },
  {
   "cell_type": "markdown",
   "id": "8b71b454",
   "metadata": {},
   "source": [
    "<b>ANS: </b>RGBA stands for Red, Green, Blue,Alpha. Alpha represents the opacity."
   ]
  },
  {
   "cell_type": "markdown",
   "id": "7b436258",
   "metadata": {},
   "source": [
    "### 2. From the Pillow module, how do you get the RGBA value of any images?\n"
   ]
  },
  {
   "cell_type": "markdown",
   "id": "c0ee4d78",
   "metadata": {},
   "source": [
    "<b>ANS: </b>we can use ImageColor.getcolor() to get rgba values of any image."
   ]
  },
  {
   "cell_type": "markdown",
   "id": "902a1e02",
   "metadata": {},
   "source": [
    "### 3. What is a box tuple, and how does it work?\n"
   ]
  },
  {
   "cell_type": "markdown",
   "id": "834a6f31",
   "metadata": {},
   "source": [
    "<b>ANS: </b>A box tuple is a tuple value of four integers: the left-edge x-coordinate, the top-edge y-coordinate, the width, and the height, respectively."
   ]
  },
  {
   "cell_type": "markdown",
   "id": "c69d6092",
   "metadata": {},
   "source": [
    "### 4. Use your image and load in notebook then, How can you find out the width and height of an Image object?\n"
   ]
  },
  {
   "cell_type": "code",
   "execution_count": 3,
   "id": "5e21bc9b",
   "metadata": {},
   "outputs": [
    {
     "name": "stdout",
     "output_type": "stream",
     "text": [
      "(750, 500)\n",
      "750 500\n"
     ]
    }
   ],
   "source": [
    "from PIL import Image\n",
    "img = Image.open('shashi.jpg')\n",
    "print(img.size)\n",
    "print(img.width, img.height)"
   ]
  },
  {
   "cell_type": "markdown",
   "id": "b32ca90f",
   "metadata": {},
   "source": [
    "### 5. What method would you call to get Image object for a 100×100 image, excluding the lower-left quarter of it?\n"
   ]
  },
  {
   "cell_type": "code",
   "execution_count": 4,
   "id": "6a511bd9",
   "metadata": {},
   "outputs": [],
   "source": [
    "from PIL import Image\n",
    "new_img = Image.open('shashi.jpg')\n",
    "other_new = new_img.crop((0,50,50,50))"
   ]
  },
  {
   "cell_type": "markdown",
   "id": "09d8600a",
   "metadata": {},
   "source": [
    "### 6. After making changes to an Image object, how could you save it as an image file?\n"
   ]
  },
  {
   "cell_type": "code",
   "execution_count": 5,
   "id": "66e89b3a",
   "metadata": {},
   "outputs": [],
   "source": [
    "from PIL import Image\n",
    "img = Image.open('shashi.jpg')\n",
    "img.save('imgg.jpg')"
   ]
  },
  {
   "cell_type": "markdown",
   "id": "24cff709",
   "metadata": {},
   "source": [
    "### 7. What module contains Pillow’s shape-drawing code?\n"
   ]
  },
  {
   "cell_type": "markdown",
   "id": "6652a285",
   "metadata": {},
   "source": [
    "<b>ANS: </b>ImageDraw module contains Pillow's shape-drawing code"
   ]
  },
  {
   "cell_type": "markdown",
   "id": "3a4425a4",
   "metadata": {},
   "source": [
    "### 8. Image objects do not have drawing methods. What kind of object does? How do you get this kind of object?"
   ]
  },
  {
   "cell_type": "markdown",
   "id": "252cb756",
   "metadata": {},
   "source": [
    "<b>ANS: </b>ImageDraw objects have different shape-drawing methods like point(),rectangle(). They are returned by passing the image object to the ImageDraw.Draw() function."
   ]
  },
  {
   "cell_type": "code",
   "execution_count": null,
   "id": "0d97ec89",
   "metadata": {},
   "outputs": [],
   "source": []
  }
 ],
 "metadata": {
  "kernelspec": {
   "display_name": "Python 3 (ipykernel)",
   "language": "python",
   "name": "python3"
  },
  "language_info": {
   "codemirror_mode": {
    "name": "ipython",
    "version": 3
   },
   "file_extension": ".py",
   "mimetype": "text/x-python",
   "name": "python",
   "nbconvert_exporter": "python",
   "pygments_lexer": "ipython3",
   "version": "3.9.7"
  }
 },
 "nbformat": 4,
 "nbformat_minor": 5
}
