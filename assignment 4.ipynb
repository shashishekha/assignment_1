{
 "cells": [
  {
   "cell_type": "markdown",
   "id": "1addfa33",
   "metadata": {},
   "source": [
    "### 1. What exactly is []?"
   ]
  },
  {
   "cell_type": "code",
   "execution_count": 1,
   "id": "0de6827d",
   "metadata": {},
   "outputs": [
    {
     "data": {
      "text/plain": [
       "list"
      ]
     },
     "execution_count": 1,
     "metadata": {},
     "output_type": "execute_result"
    }
   ],
   "source": [
    "type([])"
   ]
  },
  {
   "cell_type": "markdown",
   "id": "512dc377",
   "metadata": {},
   "source": [
    "That is actually the representation of list."
   ]
  },
  {
   "cell_type": "markdown",
   "id": "cb0536d2",
   "metadata": {},
   "source": [
    "### 2. In a list of values stored in a variable called spam, how would you assign the value 'hello' as the third value? (Assume [2, 4, 6, 8, 10] are in spam.)"
   ]
  },
  {
   "cell_type": "code",
   "execution_count": 2,
   "id": "23ac6bd4",
   "metadata": {},
   "outputs": [],
   "source": [
    "spam = [2,4,6,8,10]"
   ]
  },
  {
   "cell_type": "code",
   "execution_count": 3,
   "id": "7457cd0c",
   "metadata": {},
   "outputs": [],
   "source": [
    "spam[2]=\"hello\""
   ]
  },
  {
   "cell_type": "code",
   "execution_count": 4,
   "id": "2f88eb4f",
   "metadata": {},
   "outputs": [
    {
     "data": {
      "text/plain": [
       "[2, 4, 'hello', 8, 10]"
      ]
     },
     "execution_count": 4,
     "metadata": {},
     "output_type": "execute_result"
    }
   ],
   "source": [
    "spam"
   ]
  },
  {
   "cell_type": "markdown",
   "id": "186c4af1",
   "metadata": {},
   "source": [
    "### Let's pretend the spam includes the list ['a', 'b', 'c', 'd'] for the next three queries."
   ]
  },
  {
   "cell_type": "code",
   "execution_count": 5,
   "id": "33302776",
   "metadata": {},
   "outputs": [],
   "source": [
    "spam = ['a','b','c','d']"
   ]
  },
  {
   "cell_type": "markdown",
   "id": "f08281ec",
   "metadata": {},
   "source": [
    "### 3. What is the value of spam[int(int('3' * 2) / 11)]?"
   ]
  },
  {
   "cell_type": "code",
   "execution_count": 6,
   "id": "560d9746",
   "metadata": {},
   "outputs": [
    {
     "data": {
      "text/plain": [
       "'d'"
      ]
     },
     "execution_count": 6,
     "metadata": {},
     "output_type": "execute_result"
    }
   ],
   "source": [
    "spam[int(int('3'*2)/11)]"
   ]
  },
  {
   "cell_type": "markdown",
   "id": "87241268",
   "metadata": {},
   "source": [
    "Hence, the answer is d"
   ]
  },
  {
   "cell_type": "markdown",
   "id": "b61c06cf",
   "metadata": {},
   "source": [
    "### 4. What is the value of spam[-1]?"
   ]
  },
  {
   "cell_type": "code",
   "execution_count": 7,
   "id": "d16855a6",
   "metadata": {},
   "outputs": [
    {
     "data": {
      "text/plain": [
       "'d'"
      ]
     },
     "execution_count": 7,
     "metadata": {},
     "output_type": "execute_result"
    }
   ],
   "source": [
    "spam[-1]"
   ]
  },
  {
   "cell_type": "markdown",
   "id": "178a2c50",
   "metadata": {},
   "source": [
    "Here the answer is d."
   ]
  },
  {
   "cell_type": "markdown",
   "id": "0d2cb70f",
   "metadata": {},
   "source": [
    "### 5. What is the value of spam[:2]?"
   ]
  },
  {
   "cell_type": "code",
   "execution_count": 8,
   "id": "edcdc494",
   "metadata": {},
   "outputs": [
    {
     "data": {
      "text/plain": [
       "['a', 'b']"
      ]
     },
     "execution_count": 8,
     "metadata": {},
     "output_type": "execute_result"
    }
   ],
   "source": [
    "spam[:2]"
   ]
  },
  {
   "cell_type": "markdown",
   "id": "f4a1d819",
   "metadata": {},
   "source": [
    "the value of spam[:2] is ['a','b']"
   ]
  },
  {
   "cell_type": "markdown",
   "id": "ee98e124",
   "metadata": {},
   "source": [
    "### Let's pretend bacon has the list [3.14, 'cat,' 11, 'cat,' True] for the next three questions."
   ]
  },
  {
   "cell_type": "code",
   "execution_count": 9,
   "id": "eb1c08c4",
   "metadata": {},
   "outputs": [],
   "source": [
    "bacon = [3.14,'cat',11,'cat', True]"
   ]
  },
  {
   "cell_type": "markdown",
   "id": "df1472c5",
   "metadata": {},
   "source": [
    "### 6. What is the value of bacon.index('cat')?"
   ]
  },
  {
   "cell_type": "code",
   "execution_count": 10,
   "id": "5b89b1a6",
   "metadata": {},
   "outputs": [
    {
     "data": {
      "text/plain": [
       "1"
      ]
     },
     "execution_count": 10,
     "metadata": {},
     "output_type": "execute_result"
    }
   ],
   "source": [
    "bacon.index('cat')"
   ]
  },
  {
   "cell_type": "markdown",
   "id": "cd3de27a",
   "metadata": {},
   "source": [
    "the value of bacon.index('cat') is 1."
   ]
  },
  {
   "cell_type": "markdown",
   "id": "8c1f3c27",
   "metadata": {},
   "source": [
    "### 7. How does bacon.append(99) change the look of the list value in bacon?"
   ]
  },
  {
   "cell_type": "code",
   "execution_count": 11,
   "id": "73bfdef8",
   "metadata": {},
   "outputs": [],
   "source": [
    "bacon.append(99)"
   ]
  },
  {
   "cell_type": "code",
   "execution_count": 12,
   "id": "b91047f0",
   "metadata": {},
   "outputs": [
    {
     "data": {
      "text/plain": [
       "[3.14, 'cat', 11, 'cat', True, 99]"
      ]
     },
     "execution_count": 12,
     "metadata": {},
     "output_type": "execute_result"
    }
   ],
   "source": [
    "bacon"
   ]
  },
  {
   "cell_type": "markdown",
   "id": "5c015c92",
   "metadata": {},
   "source": [
    "the bacon.append(99) actually adds the value 99 at the end of the list.It is now become [3.14, 'cat', 11, 'cat', True, 99]"
   ]
  },
  {
   "cell_type": "markdown",
   "id": "e6775868",
   "metadata": {},
   "source": [
    "### 8. How does bacon.remove('cat') change the look of the list in bacon?"
   ]
  },
  {
   "cell_type": "code",
   "execution_count": 13,
   "id": "09a62d29",
   "metadata": {},
   "outputs": [],
   "source": [
    "bacon.remove('cat')"
   ]
  },
  {
   "cell_type": "code",
   "execution_count": 14,
   "id": "c9988f5c",
   "metadata": {},
   "outputs": [
    {
     "data": {
      "text/plain": [
       "[3.14, 11, 'cat', True, 99]"
      ]
     },
     "execution_count": 14,
     "metadata": {},
     "output_type": "execute_result"
    }
   ],
   "source": [
    "bacon"
   ]
  },
  {
   "cell_type": "markdown",
   "id": "0ca110ed",
   "metadata": {},
   "source": [
    "it removes the first occurence of 'cat' as it can be seen above."
   ]
  },
  {
   "cell_type": "markdown",
   "id": "65e67f88",
   "metadata": {},
   "source": [
    "### 9. What are the list concatenation and list replication operators?"
   ]
  },
  {
   "cell_type": "markdown",
   "id": "e0f9f489",
   "metadata": {},
   "source": [
    "The operator for list concatenation is +, while the operator for replication is *  ."
   ]
  },
  {
   "cell_type": "markdown",
   "id": "d18d14e1",
   "metadata": {},
   "source": [
    "### 10. What is difference between the list methods append() and insert()?"
   ]
  },
  {
   "cell_type": "markdown",
   "id": "c4a59aac",
   "metadata": {},
   "source": [
    "The append() method actually adds the element at the end of the list whereas the insert() insert the element at the specified position in the list."
   ]
  },
  {
   "cell_type": "markdown",
   "id": "de2efc68",
   "metadata": {},
   "source": [
    "### 11. What are the two methods for removing items from a list?"
   ]
  },
  {
   "cell_type": "markdown",
   "id": "e8ecec83",
   "metadata": {},
   "source": [
    "remove() and del() are the two methods used for removing from a list."
   ]
  },
  {
   "cell_type": "markdown",
   "id": "53bc57b1",
   "metadata": {},
   "source": [
    "### 12. Describe how list values and string values are identical."
   ]
  },
  {
   "cell_type": "markdown",
   "id": "0b40c402",
   "metadata": {},
   "source": [
    "The similarity between Lists and String in Python is that both are sequences."
   ]
  },
  {
   "cell_type": "markdown",
   "id": "36d07d22",
   "metadata": {},
   "source": [
    "### 13. What's the difference between tuples and lists?"
   ]
  },
  {
   "cell_type": "markdown",
   "id": "cc698805",
   "metadata": {},
   "source": [
    "the difference between list and tuples are:\n",
    "    1.The lists are mutable whereas tuples are immutable.\n",
    "    2.Lists consume more memory as compared to Tuples.\n",
    "    3.Lists have several built-in methods while tuple does not have many built-in methods.\n",
    "    "
   ]
  },
  {
   "cell_type": "markdown",
   "id": "6e0a8647",
   "metadata": {},
   "source": [
    "### 14. How do you type a tuple value that only contains the integer 42?"
   ]
  },
  {
   "cell_type": "markdown",
   "id": "8aa1f0fa",
   "metadata": {},
   "source": [
    "If we type a tuple value that only contains the integer 42 then we should do it in following way:"
   ]
  },
  {
   "cell_type": "code",
   "execution_count": 45,
   "id": "85c68e40",
   "metadata": {},
   "outputs": [],
   "source": [
    "a = (42,)"
   ]
  },
  {
   "cell_type": "code",
   "execution_count": 46,
   "id": "8d673357",
   "metadata": {},
   "outputs": [
    {
     "data": {
      "text/plain": [
       "tuple"
      ]
     },
     "execution_count": 46,
     "metadata": {},
     "output_type": "execute_result"
    }
   ],
   "source": [
    "type(a)"
   ]
  },
  {
   "cell_type": "markdown",
   "id": "97cc537b",
   "metadata": {},
   "source": [
    "if we are not going to put comma then the type will be int."
   ]
  },
  {
   "cell_type": "code",
   "execution_count": 47,
   "id": "6d8a68ec",
   "metadata": {},
   "outputs": [],
   "source": [
    "k = (42)"
   ]
  },
  {
   "cell_type": "code",
   "execution_count": 48,
   "id": "b19ba63b",
   "metadata": {},
   "outputs": [
    {
     "data": {
      "text/plain": [
       "int"
      ]
     },
     "execution_count": 48,
     "metadata": {},
     "output_type": "execute_result"
    }
   ],
   "source": [
    "type(k)"
   ]
  },
  {
   "cell_type": "markdown",
   "id": "8f8a6be3",
   "metadata": {},
   "source": [
    "### 15. How do you get a list value's tuple form? How do you get a tuple value's list form?"
   ]
  },
  {
   "cell_type": "code",
   "execution_count": 29,
   "id": "757ece78",
   "metadata": {},
   "outputs": [],
   "source": [
    "a =[1,2,3,4]"
   ]
  },
  {
   "cell_type": "code",
   "execution_count": 33,
   "id": "880a99e3",
   "metadata": {},
   "outputs": [
    {
     "name": "stdout",
     "output_type": "stream",
     "text": [
      "(1, 2, 3, 4)\n"
     ]
    }
   ],
   "source": [
    "def litotup(list):\n",
    "    '''function to convert list value tuple form.'''\n",
    "    return tuple(list)\n",
    "\n",
    "print(litotup(a))   \n",
    "\n",
    "    "
   ]
  },
  {
   "cell_type": "code",
   "execution_count": 35,
   "id": "71a24c9f",
   "metadata": {},
   "outputs": [
    {
     "data": {
      "text/plain": [
       "tuple"
      ]
     },
     "execution_count": 35,
     "metadata": {},
     "output_type": "execute_result"
    }
   ],
   "source": [
    "type(litotup(a))"
   ]
  },
  {
   "cell_type": "code",
   "execution_count": 37,
   "id": "1ca3c198",
   "metadata": {},
   "outputs": [],
   "source": [
    "d=(2,3,4,5)"
   ]
  },
  {
   "cell_type": "code",
   "execution_count": 38,
   "id": "1a5bd010",
   "metadata": {},
   "outputs": [
    {
     "name": "stdout",
     "output_type": "stream",
     "text": [
      "[2, 3, 4, 5]\n"
     ]
    }
   ],
   "source": [
    "def tuptoli(tuple):\n",
    "    '''function to convert tuple to list form.'''\n",
    "    return list(tuple)\n",
    "print(tuptoli(d))"
   ]
  },
  {
   "cell_type": "markdown",
   "id": "bc016d00",
   "metadata": {},
   "source": [
    "### 16. Variables that \"contain\" list values are not necessarily lists themselves. Instead, what do they contain?"
   ]
  },
  {
   "cell_type": "code",
   "execution_count": 53,
   "id": "3c8c83e9",
   "metadata": {},
   "outputs": [],
   "source": [
    "a = [4,6,7,8,\"shashi\",\"shekhar\",(4,3,2)]"
   ]
  },
  {
   "cell_type": "code",
   "execution_count": 65,
   "id": "a12cc130",
   "metadata": {},
   "outputs": [
    {
     "name": "stdout",
     "output_type": "stream",
     "text": [
      "<class 'int'>\n",
      "<class 'int'>\n",
      "<class 'int'>\n",
      "<class 'int'>\n",
      "<class 'str'>\n",
      "<class 'str'>\n",
      "<class 'tuple'>\n",
      "\n",
      "\n",
      "<class 'int'>\n"
     ]
    }
   ],
   "source": [
    "for i in a:\n",
    "    c=i\n",
    "    b=a[0]\n",
    "    k=a[1]\n",
    "    print(type(c))\n",
    "print(\"\\n\")\n",
    "print(type(b))"
   ]
  },
  {
   "cell_type": "markdown",
   "id": "948735fd",
   "metadata": {},
   "source": [
    "From above we can see that variables that will contain list value can be of any type like int, str, tuple , etc."
   ]
  },
  {
   "cell_type": "markdown",
   "id": "6e0697ca",
   "metadata": {},
   "source": [
    "### 17. How do you distinguish between copy.copy() and copy.deepcopy()?"
   ]
  },
  {
   "cell_type": "markdown",
   "id": "f36340a7",
   "metadata": {},
   "source": [
    "copy.copy(x) : Returns a shallow copy of x.\n",
    "while copy.deepcopy(x[memo]): Return a deep copy of x.\n",
    "\n",
    "A shallow copy constructs a new compound object and then (to the extent possible) inserts references into it to the objects found in the original.\n",
    "A deep copy constructs a new compound object and then, recursively, inserts copies into it of the objects found in the original."
   ]
  },
  {
   "cell_type": "code",
   "execution_count": 3,
   "id": "b9662916",
   "metadata": {},
   "outputs": [
    {
     "name": "stdout",
     "output_type": "stream",
     "text": [
      "k: [[1, 1, 1], [2, 2, 2], [3, 3, 3], [4, 4, 4]]\n",
      "l: [[1, 1, 1], [2, 2, 2], [3, 3, 3]]\n",
      "m: [[1, 1, 1], [2, 2, 2], [3, 3, 3]]\n"
     ]
    }
   ],
   "source": [
    "import copy\n",
    "'''we created shallow of  k.The l contains references to original nested objects stored in k.'''\n",
    "k = [[1, 1, 1],[2, 2, 2],[3,3,3]]\n",
    "l = copy.copy(k)\n",
    "m = copy.deepcopy(k)\n",
    "k.append([4, 4, 4])\n",
    "print(\"k:\", k)\n",
    "print(\"l:\", l)\n",
    "print(\"m:\", m)"
   ]
  },
  {
   "cell_type": "code",
   "execution_count": null,
   "id": "9e6218ae",
   "metadata": {},
   "outputs": [],
   "source": []
  }
 ],
 "metadata": {
  "kernelspec": {
   "display_name": "Python 3 (ipykernel)",
   "language": "python",
   "name": "python3"
  },
  "language_info": {
   "codemirror_mode": {
    "name": "ipython",
    "version": 3
   },
   "file_extension": ".py",
   "mimetype": "text/x-python",
   "name": "python",
   "nbconvert_exporter": "python",
   "pygments_lexer": "ipython3",
   "version": "3.9.7"
  }
 },
 "nbformat": 4,
 "nbformat_minor": 5
}
