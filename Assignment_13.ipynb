{
 "cells": [
  {
   "cell_type": "markdown",
   "id": "a220ffb3",
   "metadata": {},
   "source": [
    "### 1. What advantages do Excel spreadsheets have over CSV spreadsheets?\n",
    "\n"
   ]
  },
  {
   "cell_type": "markdown",
   "id": "1c287a86",
   "metadata": {},
   "source": [
    "<b>Ans: </b>The advantages of excel spreadsheets over csv spreadsheets are as follows:\n",
    "\n",
    "1.Excel file formats are better in terms of storing and analysing complex data.\n",
    "\n",
    "2.In Excel we can also do operations on the data using macros, formulas, etc.\n",
    "\n",
    "3.CSV files are plain-text files, it doesnot contain formatting, etc.\n"
   ]
  },
  {
   "cell_type": "markdown",
   "id": "6e4bbcca",
   "metadata": {},
   "source": [
    "### 2.What do you pass to csv.reader() and csv.writer() to create reader and writer objects?\n"
   ]
  },
  {
   "cell_type": "markdown",
   "id": "00d6ab1c",
   "metadata": {},
   "source": [
    "<b>Ans: </b>we pass csv files with mode and delimiter in csv.reader() , csv.writer()."
   ]
  },
  {
   "cell_type": "code",
   "execution_count": 11,
   "id": "03a49142",
   "metadata": {},
   "outputs": [
    {
     "name": "stdout",
     "output_type": "stream",
     "text": [
      "['shashi', 'student', 'patna']\n",
      "[]\n",
      "['Rohit', 'student', 'patna']\n",
      "[]\n"
     ]
    }
   ],
   "source": [
    "import csv\n",
    "with open('NBA.csv', 'r') as file:\n",
    "    newCsv = csv.reader(file,delimiter=',')\n",
    "    for i in newCsv:\n",
    "        print(i)"
   ]
  },
  {
   "cell_type": "code",
   "execution_count": 13,
   "id": "44235330",
   "metadata": {},
   "outputs": [],
   "source": [
    "import csv\n",
    "with open('NBA.csv', mode='w') as file:\n",
    "    newCsv = csv.writer(file,delimiter=',')\n",
    "    newCsv.writerow(['shashi','student','patna'])\n",
    "    newCsv.writerow(['Rohit','student','patna'])"
   ]
  },
  {
   "cell_type": "markdown",
   "id": "6ba42bb3",
   "metadata": {},
   "source": [
    "### 3. What modes do File objects for reader and writer objects need to be opened in?\n"
   ]
  },
  {
   "cell_type": "markdown",
   "id": "f815637c",
   "metadata": {},
   "source": [
    "<b>Ans: </b>For reader , the file objects needed to be opened in read mode mode='r' whereas for csv.writer the file objects should be opened in write mode 'w'."
   ]
  },
  {
   "cell_type": "markdown",
   "id": "9ee42083",
   "metadata": {},
   "source": [
    "### 4. What method takes a list argument and writes it to a CSV file?\n"
   ]
  },
  {
   "cell_type": "markdown",
   "id": "40ca57e9",
   "metadata": {},
   "source": [
    "<b>Ans: </b>csv.writer provides two methods for writing to CSV .\n",
    "\n",
    "1.writerow() : It writes a single row at a time.\n",
    "\n",
    "2.writerows() : It write multiple rows at a time."
   ]
  },
  {
   "cell_type": "markdown",
   "id": "62f3cac8",
   "metadata": {},
   "source": [
    "### 5. What do the keyword arguments delimiter and line terminator do?\n"
   ]
  },
  {
   "cell_type": "markdown",
   "id": "8f0038c7",
   "metadata": {},
   "source": [
    "<b>Ans: </b>A csv file is a type of plain text file that uses specific structuring to arrange tabular data. In general the separator character is called a delimiter. The comma is not the only one used. Other popular delimiters include tab(\\t),colon(:), etc.\n",
    "\n",
    "A line terminator is a string used to terminate lines produced by writer objects. The default value is \\r \\n. You can change its value by passing any string as a lineterminator parameter.The reader object only recognizes  \\n or \\r as lineterminator values."
   ]
  },
  {
   "cell_type": "markdown",
   "id": "e37b1428",
   "metadata": {},
   "source": [
    "### 6. What function takes a string of JSON data and returns a Python data structure?\n"
   ]
  },
  {
   "cell_type": "markdown",
   "id": "b030bffa",
   "metadata": {},
   "source": [
    "<b>Ans: </b>json.loads() method takes a string of JSON data and returns a Python data structure."
   ]
  },
  {
   "cell_type": "code",
   "execution_count": 14,
   "id": "33eb67d5",
   "metadata": {},
   "outputs": [],
   "source": [
    "import json"
   ]
  },
  {
   "cell_type": "code",
   "execution_count": 15,
   "id": "3b9f901b",
   "metadata": {},
   "outputs": [],
   "source": [
    "from types import SimpleNamespace"
   ]
  },
  {
   "cell_type": "code",
   "execution_count": 16,
   "id": "f35b0ddf",
   "metadata": {},
   "outputs": [
    {
     "name": "stdout",
     "output_type": "stream",
     "text": [
      "shashi shekhar Patna,Bihar\n"
     ]
    }
   ],
   "source": [
    "new_data = '{\"name\": \"shashi shekhar\",\"hometown\":\"Patna,Bihar\"}'\n",
    "x = json.loads(new_data, object_hook=lambda d: SimpleNamespace(**d))\n",
    "print(x.name,x.hometown)"
   ]
  },
  {
   "cell_type": "markdown",
   "id": "eaece7b4",
   "metadata": {},
   "source": [
    "### 7. What function takes a Python data structure and returns a string of JSON data?"
   ]
  },
  {
   "cell_type": "markdown",
   "id": "50962d4f",
   "metadata": {},
   "source": [
    "<b>Ans: </b>json.dumps() function takes a Python data structure and returns a string of JSON data."
   ]
  },
  {
   "cell_type": "code",
   "execution_count": 18,
   "id": "24ec570d",
   "metadata": {},
   "outputs": [
    {
     "name": "stdout",
     "output_type": "stream",
     "text": [
      "{\"name\": \"shashi shekhar\", \"profession\": \"student\", \"age\": 22, \"salary\": 0}\n"
     ]
    }
   ],
   "source": [
    "import json\n",
    "a = {\"name\":\"shashi shekhar\",\n",
    "     \"profession\":\"student\",\n",
    "     \"age\":22,\n",
    "     \"salary\":0\n",
    "    }\n",
    "b = json.dumps(a)\n",
    "print(b)"
   ]
  },
  {
   "cell_type": "code",
   "execution_count": null,
   "id": "fec78a37",
   "metadata": {},
   "outputs": [],
   "source": []
  }
 ],
 "metadata": {
  "kernelspec": {
   "display_name": "Python 3 (ipykernel)",
   "language": "python",
   "name": "python3"
  },
  "language_info": {
   "codemirror_mode": {
    "name": "ipython",
    "version": 3
   },
   "file_extension": ".py",
   "mimetype": "text/x-python",
   "name": "python",
   "nbconvert_exporter": "python",
   "pygments_lexer": "ipython3",
   "version": "3.9.7"
  }
 },
 "nbformat": 4,
 "nbformat_minor": 5
}
