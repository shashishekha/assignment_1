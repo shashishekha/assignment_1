{
 "cells": [
  {
   "cell_type": "markdown",
   "id": "08b1d599",
   "metadata": {},
   "source": [
    "### 1.Write a Python Program to Add Two Matrices?\n",
    "\n"
   ]
  },
  {
   "cell_type": "code",
   "execution_count": 13,
   "id": "214acf08",
   "metadata": {},
   "outputs": [
    {
     "name": "stdout",
     "output_type": "stream",
     "text": [
      "Enter the number of rows:2\n",
      "Enter the number of columns:2\n",
      "2\n",
      "2\n",
      "2\n",
      "2\n",
      "[[2, 2], [2, 2]]\n",
      "2\n",
      "2\n",
      "2\n",
      "2\n",
      "[[2, 2], [2, 2]]\n",
      "[[4, 4], [4, 4]]\n"
     ]
    }
   ],
   "source": [
    "'''Python program to add two matrices.'''\n",
    "\n",
    "lst=[]\n",
    "lst2=[]\n",
    "lst3=[]\n",
    "R=int(input(\"Enter the number of rows:\"))\n",
    "C=int(input(\"Enter the number of columns:\"))\n",
    "for i in range(R):\n",
    "    matrix=[]\n",
    "    for j in range(C):\n",
    "        ele = int(input())\n",
    "        matrix.append(ele)\n",
    "    lst.append(matrix)\n",
    "print(lst)\n",
    "\n",
    "for  i in range(R):\n",
    "    matrix2=[]\n",
    "    for j in range(C):\n",
    "        ele=int(input())\n",
    "        matrix2.append(ele)\n",
    "    lst2.append(matrix2)\n",
    "print(lst2)\n",
    "\n",
    "for i  in range(R):\n",
    "    matrix3=[]\n",
    "    for j in range(C):\n",
    "        matrix3.append(lst[i][j]+lst2[i][j])\n",
    "    lst3.append(matrix3)\n",
    "        \n",
    "print(lst3)\n",
    "    "
   ]
  },
  {
   "cell_type": "markdown",
   "id": "bf0d611c",
   "metadata": {},
   "source": [
    "### 2.Write a Python Program to Multiply Two Matrices?\n"
   ]
  },
  {
   "cell_type": "code",
   "execution_count": 15,
   "id": "aa2bea8c",
   "metadata": {},
   "outputs": [
    {
     "name": "stdout",
     "output_type": "stream",
     "text": [
      "Enter the size of row: 2\n",
      "Enter the sizeo of column: 2\n",
      "2\n",
      "2\n",
      "2\n",
      "2\n",
      "2\n",
      "2\n",
      "2\n",
      "2\n",
      "[[4, 4], [4, 4]]\n"
     ]
    }
   ],
   "source": [
    "'''Python program to multiply two matrices.'''\n",
    "lst=[]\n",
    "lst1=[]\n",
    "lst2=[]\n",
    "R = int(input(\"Enter the size of row: \"))\n",
    "C = int(input(\"Enter the sizeo of column: \"))\n",
    "for i in range(R):\n",
    "    matrix=[]\n",
    "    for j in range(C):\n",
    "        ele=int(input())\n",
    "        matrix.append(ele)\n",
    "    lst.append(matrix)\n",
    "lst\n",
    "\n",
    "for i in range(R):\n",
    "    matrix1=[]\n",
    "    for j in range(C):\n",
    "        ele=int(input())\n",
    "        matrix1.append(ele)\n",
    "    lst1.append(matrix1)\n",
    "for i in range(R):\n",
    "    matrix2=[]\n",
    "    for j in range(C):\n",
    "        matrix2.append(lst[i][j]*lst1[i][j])\n",
    "    lst2.append(matrix2)\n",
    "print(lst2)"
   ]
  },
  {
   "cell_type": "markdown",
   "id": "460daab9",
   "metadata": {},
   "source": [
    "### 3.Write a Python Program to Transpose a Matrix?\n"
   ]
  },
  {
   "cell_type": "code",
   "execution_count": 21,
   "id": "65dbac6c",
   "metadata": {},
   "outputs": [
    {
     "name": "stdout",
     "output_type": "stream",
     "text": [
      "Enter the value of R.2\n",
      "Enter the value of C.2\n",
      "1\n",
      "2\n",
      "3\n",
      "4\n",
      "[[1, 3], [2, 4]]\n"
     ]
    }
   ],
   "source": [
    "'''Python Program to find transpose of a matrix.'''\n",
    "\n",
    "lst=[]\n",
    "result=[]\n",
    "R=int(input(\"Enter the value of R.\"))\n",
    "C=int(input(\"Enter the value of C.\"))\n",
    "for i in range(R):\n",
    "    matrix=[]\n",
    "    for j in range(C):\n",
    "        ele=int(input())\n",
    "        matrix.append(ele)\n",
    "    lst.append(matrix)\n",
    "for i in range(R):\n",
    "    matrix1=[]\n",
    "    for j in range(C):\n",
    "        matrix1.append(lst[j][i])\n",
    "    result.append(matrix1)\n",
    "print(result)"
   ]
  },
  {
   "cell_type": "markdown",
   "id": "d0e4e3ae",
   "metadata": {},
   "source": [
    "### 4.Write a Python Program to Sort Words in Alphabetic Order?\n"
   ]
  },
  {
   "cell_type": "code",
   "execution_count": 29,
   "id": "e9d27c3e",
   "metadata": {},
   "outputs": [
    {
     "name": "stdout",
     "output_type": "stream",
     "text": [
      "Enter a string:my name is shashi shekhar.\n",
      "['my', 'name', 'is', 'shashi', 'shekhar.']\n",
      "is my name shashi shekhar.\n"
     ]
    }
   ],
   "source": [
    "'''Python program to sort words in alphabetical order.'''\n",
    "string1=input(\"Enter a string:\")\n",
    "k = string1.split()\n",
    "print(k)\n",
    "k.sort()\n",
    "print(*k)\n",
    "\n"
   ]
  },
  {
   "cell_type": "markdown",
   "id": "b89e9ebd",
   "metadata": {},
   "source": [
    "### 5.Write a Python Program to Remove Punctuation From a String?"
   ]
  },
  {
   "cell_type": "code",
   "execution_count": 32,
   "id": "8323177a",
   "metadata": {},
   "outputs": [
    {
     "name": "stdout",
     "output_type": "stream",
     "text": [
      "Enter the string: my@#$name)(*(*is shashi)*(shekhar.\n",
      "mynameis shashishekhar\n"
     ]
    }
   ],
   "source": [
    "def removePunc(string):\n",
    "    '''Function to remove punctuations from string.'''\n",
    "    punc='''!()-[]{};:'\"\\,<>./?@#$%^&*_~'''\n",
    "    \n",
    "    for i in string.lower():\n",
    "        if i in punc:\n",
    "            string= string.replace(i,\"\")\n",
    "    print(string)\n",
    "string=input(\"Enter the string: \")\n",
    "removePunc(string)"
   ]
  },
  {
   "cell_type": "code",
   "execution_count": null,
   "id": "27a71b52",
   "metadata": {},
   "outputs": [],
   "source": []
  }
 ],
 "metadata": {
  "kernelspec": {
   "display_name": "Python 3 (ipykernel)",
   "language": "python",
   "name": "python3"
  },
  "language_info": {
   "codemirror_mode": {
    "name": "ipython",
    "version": 3
   },
   "file_extension": ".py",
   "mimetype": "text/x-python",
   "name": "python",
   "nbconvert_exporter": "python",
   "pygments_lexer": "ipython3",
   "version": "3.9.7"
  }
 },
 "nbformat": 4,
 "nbformat_minor": 5
}
