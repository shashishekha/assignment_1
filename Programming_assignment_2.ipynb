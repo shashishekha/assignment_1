{
 "cells": [
  {
   "cell_type": "markdown",
   "id": "ab916aa0",
   "metadata": {},
   "source": [
    "### 1.Write a Python program to convert kilometers to miles?\n",
    "\n"
   ]
  },
  {
   "cell_type": "code",
   "execution_count": 4,
   "id": "bb873b74",
   "metadata": {},
   "outputs": [
    {
     "name": "stdout",
     "output_type": "stream",
     "text": [
      "8\n",
      "the value results in 4.96 miles.\n"
     ]
    }
   ],
   "source": [
    "# 1 kilometer is equal to 0.621371 miles\n",
    "\n",
    "def kmToMiles(args):\n",
    "    '''function to convert km into miles'''\n",
    "    return args*0.62\n",
    "\n",
    "a = float(input())\n",
    "print(f'the value results in {kmToMiles(a)} miles.')"
   ]
  },
  {
   "cell_type": "markdown",
   "id": "a80a5ab5",
   "metadata": {},
   "source": [
    "### 2.Write a Python program to convert Celsius to Fahrenheit?\n"
   ]
  },
  {
   "cell_type": "code",
   "execution_count": null,
   "id": "62b62f67",
   "metadata": {},
   "outputs": [],
   "source": [
    "#  (30°C x 1.8) + 32 = 86°F\n",
    "def celsiusToFahrenheit(celsius):\n",
    "    return ((celsius *1.8) +32)\n",
    "\n",
    "celsius = float(input())\n",
    "\n",
    "print(f'The value in Fahrenheit is: {celsiusToFahrenheit(celsius)}')"
   ]
  },
  {
   "cell_type": "markdown",
   "id": "88b05ee2",
   "metadata": {},
   "source": [
    "### 3.Write a Python program to display calendar?\n"
   ]
  },
  {
   "cell_type": "code",
   "execution_count": 2,
   "id": "cfa8202a",
   "metadata": {},
   "outputs": [
    {
     "name": "stdout",
     "output_type": "stream",
     "text": [
      "Enter Year:2022\n",
      "Enter Month value:3\n",
      "     March 2022\n",
      "Mo Tu We Th Fr Sa Su\n",
      "    1  2  3  4  5  6\n",
      " 7  8  9 10 11 12 13\n",
      "14 15 16 17 18 19 20\n",
      "21 22 23 24 25 26 27\n",
      "28 29 30 31\n",
      "\n"
     ]
    }
   ],
   "source": [
    "import calendar\n",
    "def showCalendar(y,m):\n",
    "    '''Function to display calendar.'''\n",
    "    return(calendar.month(y,m))\n",
    "y =int(input(\"Enter Year:\"))\n",
    "m=int(input(\"Enter Month value:\"))\n",
    "print(showCalendar(y,m))"
   ]
  },
  {
   "cell_type": "markdown",
   "id": "404ea534",
   "metadata": {},
   "source": [
    "### 4.Write a Python program to solve quadratic equation?\n"
   ]
  },
  {
   "cell_type": "code",
   "execution_count": 7,
   "id": "4f90794c",
   "metadata": {},
   "outputs": [
    {
     "name": "stdout",
     "output_type": "stream",
     "text": [
      "1\n",
      "4\n",
      "2\n",
      "The obtained values are: ((-3.414213562373095+0j), (-0.5857864376269049+0j))\n"
     ]
    }
   ],
   "source": [
    "def solveQuadEqun(a,b,c):\n",
    "    '''Function to find roots of ax^2+bx+c=0. Give the value of a,b,c to get the solution.'''\n",
    "    import cmath\n",
    "    D=(b**2)-(4*a*c)\n",
    "    root1 = (-b-cmath.sqrt(D))/(2*a)\n",
    "    root2=(-b+cmath.sqrt(D))/(2*a)\n",
    "    return root1, root2\n",
    "a=int(input())\n",
    "b=int(input())\n",
    "c=int(input())\n",
    "\n",
    "print(f'The obtained values are: {solveQuadEqun(a,b,c)}')"
   ]
  },
  {
   "cell_type": "markdown",
   "id": "4c21b746",
   "metadata": {},
   "source": [
    "### 5.Write a Python program to swap two variables without temp variable?"
   ]
  },
  {
   "cell_type": "code",
   "execution_count": 3,
   "id": "684845db",
   "metadata": {},
   "outputs": [
    {
     "name": "stdout",
     "output_type": "stream",
     "text": [
      "6\n",
      "8\n",
      "(8, 6)\n"
     ]
    }
   ],
   "source": [
    "a= int(input())\n",
    "b= int(input())\n",
    "def swap(a,b):\n",
    "    '''function to swap two variable without using third variable.'''\n",
    "    a=a+b \n",
    "    b=a-b\n",
    "    a=a-b\n",
    "    return a,b\n",
    "print(swap(a,b))"
   ]
  },
  {
   "cell_type": "code",
   "execution_count": null,
   "id": "24822a60",
   "metadata": {},
   "outputs": [],
   "source": []
  }
 ],
 "metadata": {
  "kernelspec": {
   "display_name": "Python 3 (ipykernel)",
   "language": "python",
   "name": "python3"
  },
  "language_info": {
   "codemirror_mode": {
    "name": "ipython",
    "version": 3
   },
   "file_extension": ".py",
   "mimetype": "text/x-python",
   "name": "python",
   "nbconvert_exporter": "python",
   "pygments_lexer": "ipython3",
   "version": "3.9.7"
  }
 },
 "nbformat": 4,
 "nbformat_minor": 5
}
