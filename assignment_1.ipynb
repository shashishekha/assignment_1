{
 "cells": [
  {
   "cell_type": "markdown",
   "id": "f4638abc",
   "metadata": {},
   "source": [
    "# 1. In the below elements which of them are values or an expression? eg:- values can be integer or string and expressions will be mathematical operators.\n",
    "\n",
    "* , 'hello', -87.8, - , /, +, 6"
   ]
  },
  {
   "cell_type": "markdown",
   "id": "8112b2a3",
   "metadata": {},
   "source": [
    "answer:\n",
    "value: 'hello' , -87.8 ,6\n",
    "expression: * , -, /, +"
   ]
  },
  {
   "cell_type": "markdown",
   "id": "846c87d8",
   "metadata": {},
   "source": [
    "# 2. What is the difference between string and variable?"
   ]
  },
  {
   "cell_type": "markdown",
   "id": "07af517e",
   "metadata": {},
   "source": [
    "2.answer:  variable is name of location in primary memory where we store values. While string is a type of value which is represented in single or double quotes assigned to a variable. \n",
    "\n",
    "We can consider a variable as a container in which values can be stored like string can be stored inside it, etc."
   ]
  },
  {
   "cell_type": "markdown",
   "id": "f41b3b81",
   "metadata": {},
   "source": [
    "# 3. Describe three different data types."
   ]
  },
  {
   "cell_type": "markdown",
   "id": "e503e876",
   "metadata": {},
   "source": [
    "3.answer : 1.Numeric: Numeric value can be integer , floating number, complex number. \n",
    "                      Integers: In python there is no limit to how long an integer value can be.\n",
    "                      Float: It is a real number with floating point representation.\n",
    "                      Complex Numbers: It is represented as (real part)+(imaginary part)j. ex: 4+2j\n",
    "                            \n",
    "            2. Sequence Type:  It includes String , List , Tuple.\n",
    "                      String: A string is a collection of one or more characters put in a single or double quote or triple quote.\n",
    "                              In python, there is no character data type. It is represented by str class.\n",
    "                      List: They are just like arrays. It is an ordered collection of data.\n",
    "                      \n",
    "                      Tuple: It is also an ordered collection of Python objects.Tuples are immutables.\n",
    "            \n",
    "           3. Boolean: Data type with one of the two built-in values, True or False."
   ]
  },
  {
   "cell_type": "markdown",
   "id": "8f968e20",
   "metadata": {},
   "source": [
    "# 4. What is an expression made up of? What do all expressions do?"
   ]
  },
  {
   "cell_type": "markdown",
   "id": "43394cb1",
   "metadata": {},
   "source": [
    "answer: Expressions are nothing but combinations of values and operators which evaluates to give a particular value or result.\n",
    "        Expressions need to be evaluated, the interpreter in python evaluates and expression and displays the result if print() is called and expression put inside it.For example:\n",
    "    "
   ]
  },
  {
   "cell_type": "code",
   "execution_count": 8,
   "id": "da2a1005",
   "metadata": {},
   "outputs": [
    {
     "name": "stdout",
     "output_type": "stream",
     "text": [
      "6\n"
     ]
    }
   ],
   "source": [
    "print(3+3)"
   ]
  },
  {
   "cell_type": "markdown",
   "id": "70773cb5",
   "metadata": {},
   "source": [
    "# 5. This assignment statements, like spam = 10. What is the difference between an expression and a statement?"
   ]
  },
  {
   "cell_type": "markdown",
   "id": "749154d7",
   "metadata": {},
   "source": [
    "answer: An expression is any legal combination of symbols that represents a value or evaluates to give a particular value. while statement is a programming instruction that does something.\n",
    "        example for an expression: 3+5-4. Example for statement: print(\"shashi\")"
   ]
  },
  {
   "cell_type": "markdown",
   "id": "dcfa68c6",
   "metadata": {},
   "source": [
    "# 6. After running the following code, what does the variable bacon contain?\n",
    "\n"
   ]
  },
  {
   "cell_type": "code",
   "execution_count": 11,
   "id": "4ed564cd",
   "metadata": {},
   "outputs": [
    {
     "data": {
      "text/plain": [
       "23"
      ]
     },
     "execution_count": 11,
     "metadata": {},
     "output_type": "execute_result"
    }
   ],
   "source": [
    "bacon = 22\n",
    "bacon + 1"
   ]
  },
  {
   "cell_type": "code",
   "execution_count": 12,
   "id": "972470a9",
   "metadata": {},
   "outputs": [
    {
     "data": {
      "text/plain": [
       "22"
      ]
     },
     "execution_count": 12,
     "metadata": {},
     "output_type": "execute_result"
    }
   ],
   "source": [
    "bacon"
   ]
  },
  {
   "cell_type": "markdown",
   "id": "a9d51b59",
   "metadata": {},
   "source": [
    "Hence, the variable bacon contain 22."
   ]
  },
  {
   "cell_type": "markdown",
   "id": "82f14805",
   "metadata": {},
   "source": [
    "# 7. What should the values of the following two terms be?"
   ]
  },
  {
   "cell_type": "code",
   "execution_count": 2,
   "id": "6ee4b03c",
   "metadata": {},
   "outputs": [
    {
     "data": {
      "text/plain": [
       "'spamspamspam'"
      ]
     },
     "execution_count": 2,
     "metadata": {},
     "output_type": "execute_result"
    }
   ],
   "source": [
    "'spam'+'spamspam'"
   ]
  },
  {
   "cell_type": "code",
   "execution_count": 3,
   "id": "5c223616",
   "metadata": {},
   "outputs": [
    {
     "data": {
      "text/plain": [
       "'spamspamspam'"
      ]
     },
     "execution_count": 3,
     "metadata": {},
     "output_type": "execute_result"
    }
   ],
   "source": [
    "'spam'*3"
   ]
  },
  {
   "cell_type": "markdown",
   "id": "480534cb",
   "metadata": {},
   "source": [
    "Hence, both represents the same string."
   ]
  },
  {
   "cell_type": "markdown",
   "id": "27f6e0a9",
   "metadata": {},
   "source": [
    "# 8. Why is eggs a valid variable name while 100 is invalid?"
   ]
  },
  {
   "cell_type": "code",
   "execution_count": 13,
   "id": "753dac4a",
   "metadata": {},
   "outputs": [
    {
     "ename": "SyntaxError",
     "evalue": "cannot assign to literal (Temp/ipykernel_9724/2817434116.py, line 2)",
     "output_type": "error",
     "traceback": [
      "\u001b[1;36m  File \u001b[1;32m\"C:\\Users\\HP\\AppData\\Local\\Temp/ipykernel_9724/2817434116.py\"\u001b[1;36m, line \u001b[1;32m2\u001b[0m\n\u001b[1;33m    100 = 500\u001b[0m\n\u001b[1;37m    ^\u001b[0m\n\u001b[1;31mSyntaxError\u001b[0m\u001b[1;31m:\u001b[0m cannot assign to literal\n"
     ]
    }
   ],
   "source": [
    "eggs = 400\n",
    "100 = 500"
   ]
  },
  {
   "cell_type": "markdown",
   "id": "a48061be",
   "metadata": {},
   "source": [
    "because variable name can not begin with numbers"
   ]
  },
  {
   "cell_type": "markdown",
   "id": "974e3701",
   "metadata": {},
   "source": [
    "# 9. What three functions can be used to get the integer, floating-point number, or string version of a value?"
   ]
  },
  {
   "cell_type": "code",
   "execution_count": 16,
   "id": "fd9f4da0",
   "metadata": {},
   "outputs": [],
   "source": [
    "a = 34"
   ]
  },
  {
   "cell_type": "code",
   "execution_count": 17,
   "id": "09a99578",
   "metadata": {},
   "outputs": [
    {
     "data": {
      "text/plain": [
       "int"
      ]
     },
     "execution_count": 17,
     "metadata": {},
     "output_type": "execute_result"
    }
   ],
   "source": [
    "type(a)"
   ]
  },
  {
   "cell_type": "code",
   "execution_count": 18,
   "id": "03c9125f",
   "metadata": {},
   "outputs": [
    {
     "data": {
      "text/plain": [
       "'34'"
      ]
     },
     "execution_count": 18,
     "metadata": {},
     "output_type": "execute_result"
    }
   ],
   "source": [
    "str(a)"
   ]
  },
  {
   "cell_type": "code",
   "execution_count": 19,
   "id": "4b07f57b",
   "metadata": {},
   "outputs": [
    {
     "data": {
      "text/plain": [
       "34.0"
      ]
     },
     "execution_count": 19,
     "metadata": {},
     "output_type": "execute_result"
    }
   ],
   "source": [
    "float(a)"
   ]
  },
  {
   "cell_type": "code",
   "execution_count": 20,
   "id": "1c3eedaf",
   "metadata": {},
   "outputs": [
    {
     "data": {
      "text/plain": [
       "34"
      ]
     },
     "execution_count": 20,
     "metadata": {},
     "output_type": "execute_result"
    }
   ],
   "source": [
    "int(a)"
   ]
  },
  {
   "cell_type": "markdown",
   "id": "879b2069",
   "metadata": {},
   "source": [
    "int(), str(), float() are three functions that can be used to get the integer, floating-point number, or string version of a value."
   ]
  },
  {
   "cell_type": "markdown",
   "id": "a6df11d8",
   "metadata": {},
   "source": [
    "# 10. Why does this expression cause an error? How can you fix it?"
   ]
  },
  {
   "cell_type": "code",
   "execution_count": 5,
   "id": "0a0c29db",
   "metadata": {},
   "outputs": [
    {
     "ename": "TypeError",
     "evalue": "can only concatenate str (not \"int\") to str",
     "output_type": "error",
     "traceback": [
      "\u001b[1;31m---------------------------------------------------------------------------\u001b[0m",
      "\u001b[1;31mTypeError\u001b[0m                                 Traceback (most recent call last)",
      "\u001b[1;32m~\\AppData\\Local\\Temp/ipykernel_9724/4259877183.py\u001b[0m in \u001b[0;36m<module>\u001b[1;34m\u001b[0m\n\u001b[1;32m----> 1\u001b[1;33m \u001b[1;34m'I have eaten'\u001b[0m\u001b[1;33m+\u001b[0m\u001b[1;36m99\u001b[0m\u001b[1;33m+\u001b[0m\u001b[1;34m'burritos.'\u001b[0m\u001b[1;33m\u001b[0m\u001b[1;33m\u001b[0m\u001b[0m\n\u001b[0m",
      "\u001b[1;31mTypeError\u001b[0m: can only concatenate str (not \"int\") to str"
     ]
    }
   ],
   "source": [
    "'I have eaten'+99+'burritos.'"
   ]
  },
  {
   "cell_type": "markdown",
   "id": "2ff236ae",
   "metadata": {},
   "source": [
    "The error can be resolved by making integer into a string."
   ]
  },
  {
   "cell_type": "code",
   "execution_count": 7,
   "id": "b4dbf390",
   "metadata": {},
   "outputs": [
    {
     "data": {
      "text/plain": [
       "'I have eaten 99 burritos.'"
      ]
     },
     "execution_count": 7,
     "metadata": {},
     "output_type": "execute_result"
    }
   ],
   "source": [
    "'I have eaten'+' 99 '+'burritos.'"
   ]
  },
  {
   "cell_type": "code",
   "execution_count": null,
   "id": "832c77d2",
   "metadata": {},
   "outputs": [],
   "source": []
  }
 ],
 "metadata": {
  "kernelspec": {
   "display_name": "Python 3 (ipykernel)",
   "language": "python",
   "name": "python3"
  },
  "language_info": {
   "codemirror_mode": {
    "name": "ipython",
    "version": 3
   },
   "file_extension": ".py",
   "mimetype": "text/x-python",
   "name": "python",
   "nbconvert_exporter": "python",
   "pygments_lexer": "ipython3",
   "version": "3.9.7"
  }
 },
 "nbformat": 4,
 "nbformat_minor": 5
}
