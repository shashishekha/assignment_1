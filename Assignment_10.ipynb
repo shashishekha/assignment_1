{
 "cells": [
  {
   "cell_type": "markdown",
   "id": "45911070",
   "metadata": {},
   "source": [
    "### 1. How do you distinguish between shutil.copy() and shutil.copytree()?\n",
    "\n"
   ]
  },
  {
   "cell_type": "markdown",
   "id": "10c4d76c",
   "metadata": {},
   "source": [
    "<b>Ans: </b>shutil.copy() will copy a single file while shutil.copytree() will copy an entire folder and every folder and file contained in it."
   ]
  },
  {
   "cell_type": "markdown",
   "id": "ef5f9983",
   "metadata": {},
   "source": [
    "### 2. What function is used to rename files??\n"
   ]
  },
  {
   "cell_type": "markdown",
   "id": "877eee1c",
   "metadata": {},
   "source": [
    "<b>Ans: </b>os.rename() method is used to rename a file in python."
   ]
  },
  {
   "cell_type": "markdown",
   "id": "3d68a533",
   "metadata": {},
   "source": [
    "### 3. What is the difference between the delete functions in the send2trash and shutil modules?\n"
   ]
  },
  {
   "cell_type": "markdown",
   "id": "15466900",
   "metadata": {},
   "source": [
    "<b>Ans: </b>The send2trash functions will move a file or folder to the recycle bin, whereas the shutil functions will permanently delete files and folders."
   ]
  },
  {
   "cell_type": "markdown",
   "id": "4253fd89",
   "metadata": {},
   "source": [
    "### 4.ZipFile objects have a close() method just like File objects’ close() method. What ZipFile method is equivalent to File objects’ open() method?\n"
   ]
  },
  {
   "cell_type": "markdown",
   "id": "01286e14",
   "metadata": {},
   "source": [
    "ZipFile Module have a method Zipfile.ZipFile() to read and write to zipFiles, it takes arguments like filename and mode etc.\n",
    "zipfile.ZipFile('filename',mode ='r')"
   ]
  },
  {
   "cell_type": "markdown",
   "id": "944cfcab",
   "metadata": {},
   "source": [
    "### 5. Create a programme that searches a folder tree for files with a certain file extension (such as .pdf or .jpg). Copy these files from whatever location they are in to a new folder."
   ]
  },
  {
   "cell_type": "code",
   "execution_count": 17,
   "id": "f0aeb84e",
   "metadata": {},
   "outputs": [
    {
     "name": "stdout",
     "output_type": "stream",
     "text": [
      "C:\\Users\\HP\\Desktop\\ineuronnnn\\initial\n",
      "C:\\Users\\HP\\Desktop\\ineuronnnn\\final\n",
      "Folder Name : C:\\Users\\HP\\Desktop\\ineuronnnn\\initial\n",
      "Sub Folders : ['l', 'r']\n",
      "Files : ['shashi.jpg']\n",
      "Files copied from C:\\Users\\HP\\Desktop\\ineuronnnn\\initial to C:\\Users\\HP\\Desktop\\ineuronnnn\\final\n",
      "Folder Name : C:\\Users\\HP\\Desktop\\ineuronnnn\\initial\\l\n",
      "Sub Folders : []\n",
      "Files : ['m.pdf']\n",
      "Files copied from C:\\Users\\HP\\Desktop\\ineuronnnn\\initial to C:\\Users\\HP\\Desktop\\ineuronnnn\\final\n",
      "Folder Name : C:\\Users\\HP\\Desktop\\ineuronnnn\\initial\\r\n",
      "Sub Folders : []\n",
      "Files : []\n",
      "Files copied from C:\\Users\\HP\\Desktop\\ineuronnnn\\initial to C:\\Users\\HP\\Desktop\\ineuronnnn\\final\n"
     ]
    }
   ],
   "source": [
    "import os\n",
    "import shutil\n",
    "\n",
    "def findCopy(initial, final, extensions):\n",
    "    '''Function to copy specefic extensions file from one folder to another.'''\n",
    "    initial = os.path.abspath(initial)\n",
    "    print(initial)\n",
    "    final = os.path.abspath(final)\n",
    "    print(final)\n",
    "    for foldername, subfolders , filenames in os.walk(initial):\n",
    "        print(f'Folder Name : {foldername}')\n",
    "        print(f'Sub Folders : {subfolders}')\n",
    "        print(f'Files : {filenames}')\n",
    "        for filename in filenames:\n",
    "            name, extension = os.path.splitext(filename)\n",
    "            if extension in extensions:\n",
    "                targetFile = foldername+os.path.sep+filename\n",
    "                shutil.copy(targetFile, final)\n",
    "        print(f'Files copied from {initial} to {final}')\n",
    "\n",
    "extensions = ['.jpg','.pdf']\n",
    "initial = 'initial'\n",
    "final = 'final'\n",
    "findCopy(initial, final,extensions)\n",
    "    "
   ]
  },
  {
   "cell_type": "code",
   "execution_count": null,
   "id": "29436e44",
   "metadata": {},
   "outputs": [],
   "source": []
  },
  {
   "cell_type": "code",
   "execution_count": null,
   "id": "67a324a7",
   "metadata": {},
   "outputs": [],
   "source": []
  }
 ],
 "metadata": {
  "kernelspec": {
   "display_name": "Python 3 (ipykernel)",
   "language": "python",
   "name": "python3"
  },
  "language_info": {
   "codemirror_mode": {
    "name": "ipython",
    "version": 3
   },
   "file_extension": ".py",
   "mimetype": "text/x-python",
   "name": "python",
   "nbconvert_exporter": "python",
   "pygments_lexer": "ipython3",
   "version": "3.9.7"
  }
 },
 "nbformat": 4,
 "nbformat_minor": 5
}
