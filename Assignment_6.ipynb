{
 "cells": [
  {
   "cell_type": "markdown",
   "id": "5dd3343c",
   "metadata": {},
   "source": [
    "### 1. What are escape characters, and how do you use them?\n",
    "\n"
   ]
  },
  {
   "cell_type": "markdown",
   "id": "14485c69",
   "metadata": {},
   "source": [
    "<b>ANS</b> : To insert characters that are illegal in a  string, we use an escape character. An escape character is a backslash \\ followed by the character we want to insert."
   ]
  },
  {
   "cell_type": "code",
   "execution_count": 1,
   "id": "c8fd3cad",
   "metadata": {},
   "outputs": [
    {
     "ename": "SyntaxError",
     "evalue": "invalid syntax (Temp/ipykernel_9896/140979347.py, line 2)",
     "output_type": "error",
     "traceback": [
      "\u001b[1;36m  File \u001b[1;32m\"C:\\Users\\HP\\AppData\\Local\\Temp/ipykernel_9896/140979347.py\"\u001b[1;36m, line \u001b[1;32m2\u001b[0m\n\u001b[1;33m    string = \"my name is \"shashi shekhar\"\"\u001b[0m\n\u001b[1;37m                          ^\u001b[0m\n\u001b[1;31mSyntaxError\u001b[0m\u001b[1;31m:\u001b[0m invalid syntax\n"
     ]
    }
   ],
   "source": [
    "# example:\n",
    "string = \"my name is \"shashi shekhar\"\""
   ]
  },
  {
   "cell_type": "code",
   "execution_count": null,
   "id": "763a8d4f",
   "metadata": {},
   "outputs": [],
   "source": [
    "Here it is showing invalid syntax . we can correct it using backslash."
   ]
  },
  {
   "cell_type": "code",
   "execution_count": 5,
   "id": "f9e0235e",
   "metadata": {},
   "outputs": [],
   "source": [
    "string = \"my name is \\\"shashi shekhar\\\"\""
   ]
  },
  {
   "cell_type": "code",
   "execution_count": 6,
   "id": "2c058c8d",
   "metadata": {},
   "outputs": [
    {
     "name": "stdout",
     "output_type": "stream",
     "text": [
      "my name is \"shashi shekhar\"\n"
     ]
    }
   ],
   "source": [
    "print(string)"
   ]
  },
  {
   "cell_type": "markdown",
   "id": "845a94bd",
   "metadata": {},
   "source": [
    "### 2. What do the escape characters n and t stand for?\n"
   ]
  },
  {
   "cell_type": "markdown",
   "id": "2704591c",
   "metadata": {},
   "source": [
    "<b>Ans: </b>\\n is a newline, \\t is a tab"
   ]
  },
  {
   "cell_type": "markdown",
   "id": "b40b18a5",
   "metadata": {},
   "source": [
    "### 3. What is the way to include backslash characters in a string?\n"
   ]
  },
  {
   "cell_type": "markdown",
   "id": "02371c8b",
   "metadata": {},
   "source": [
    "<b>Ans: </b> We can use one more blackslash to include backslash character in a string. \\\\ "
   ]
  },
  {
   "cell_type": "markdown",
   "id": "2c80a53f",
   "metadata": {},
   "source": [
    "### 4. The string \"Howl's Moving Castle\" is a correct value. Why isn't the single quote character in the word Howl's not escaped a problem?\n"
   ]
  },
  {
   "cell_type": "markdown",
   "id": "fd9b1c89",
   "metadata": {},
   "source": [
    "<b>Ans: </b> Here we are not having any issue because the string is wrapped in double quotes. If it would have been wrapped in single quotes then we have to use escape character to show single quote."
   ]
  },
  {
   "cell_type": "code",
   "execution_count": 34,
   "id": "74196116",
   "metadata": {},
   "outputs": [
    {
     "name": "stdout",
     "output_type": "stream",
     "text": [
      "Howl's Moving Castle\n",
      "Howl's Moving Castle\n",
      "Howl\"s Moving Catle\n"
     ]
    }
   ],
   "source": [
    "string =\"Howl's Moving Castle\"\n",
    "string1 ='Howl\\'s Moving Castle'\n",
    "string2 = \"Howl\\\"s Moving Catle\"\n",
    "print(string)\n",
    "print(string1)\n",
    "print(string2)"
   ]
  },
  {
   "cell_type": "markdown",
   "id": "7d504c0b",
   "metadata": {},
   "source": [
    "### 5. How do you write a string of newlines if you don't want to use the n character?\n"
   ]
  },
  {
   "cell_type": "markdown",
   "id": "11eb0cb1",
   "metadata": {},
   "source": [
    "<b>Ans: </b>Multiline string allows us to use newlines in string without the \\n escape character."
   ]
  },
  {
   "cell_type": "markdown",
   "id": "e62c052a",
   "metadata": {},
   "source": [
    "### 6. What are the values of the given expressions?"
   ]
  },
  {
   "cell_type": "code",
   "execution_count": 40,
   "id": "afaefb08",
   "metadata": {},
   "outputs": [
    {
     "data": {
      "text/plain": [
       "'e'"
      ]
     },
     "execution_count": 40,
     "metadata": {},
     "output_type": "execute_result"
    }
   ],
   "source": [
    "'Hello, world!'[1]"
   ]
  },
  {
   "cell_type": "code",
   "execution_count": 37,
   "id": "70ee7312",
   "metadata": {},
   "outputs": [
    {
     "data": {
      "text/plain": [
       "'Hello'"
      ]
     },
     "execution_count": 37,
     "metadata": {},
     "output_type": "execute_result"
    }
   ],
   "source": [
    "'Hello, world!'[0:5]\n"
   ]
  },
  {
   "cell_type": "code",
   "execution_count": 38,
   "id": "fc9eea5f",
   "metadata": {},
   "outputs": [
    {
     "data": {
      "text/plain": [
       "'Hello'"
      ]
     },
     "execution_count": 38,
     "metadata": {},
     "output_type": "execute_result"
    }
   ],
   "source": [
    "'Hello, world!'[:5]\n"
   ]
  },
  {
   "cell_type": "code",
   "execution_count": 39,
   "id": "c3358aef",
   "metadata": {},
   "outputs": [
    {
     "data": {
      "text/plain": [
       "'lo, world!'"
      ]
     },
     "execution_count": 39,
     "metadata": {},
     "output_type": "execute_result"
    }
   ],
   "source": [
    "'Hello, world!'[3:]"
   ]
  },
  {
   "cell_type": "markdown",
   "id": "3b6039dc",
   "metadata": {},
   "source": [
    "### 7. What are the values of the following expressions?"
   ]
  },
  {
   "cell_type": "code",
   "execution_count": 41,
   "id": "1999885c",
   "metadata": {},
   "outputs": [
    {
     "data": {
      "text/plain": [
       "'HELLO'"
      ]
     },
     "execution_count": 41,
     "metadata": {},
     "output_type": "execute_result"
    }
   ],
   "source": [
    "\n",
    "'Hello'.upper()\n"
   ]
  },
  {
   "cell_type": "code",
   "execution_count": 42,
   "id": "a0354eb9",
   "metadata": {},
   "outputs": [
    {
     "data": {
      "text/plain": [
       "True"
      ]
     },
     "execution_count": 42,
     "metadata": {},
     "output_type": "execute_result"
    }
   ],
   "source": [
    "'Hello'.upper().isupper()\n"
   ]
  },
  {
   "cell_type": "code",
   "execution_count": 43,
   "id": "dadbf47a",
   "metadata": {},
   "outputs": [
    {
     "data": {
      "text/plain": [
       "'hello'"
      ]
     },
     "execution_count": 43,
     "metadata": {},
     "output_type": "execute_result"
    }
   ],
   "source": [
    "'Hello'.upper().lower()"
   ]
  },
  {
   "cell_type": "markdown",
   "id": "63b4441a",
   "metadata": {},
   "source": [
    "### 8. What are the values of the following expressions?"
   ]
  },
  {
   "cell_type": "code",
   "execution_count": 50,
   "id": "6cc98904",
   "metadata": {},
   "outputs": [
    {
     "data": {
      "text/plain": [
       "['Remember,', 'remember,', 'the', 'fifth', 'of', 'July.']"
      ]
     },
     "execution_count": 50,
     "metadata": {},
     "output_type": "execute_result"
    }
   ],
   "source": [
    "\n",
    "'Remember, remember, the fifth of July.'.split()\n"
   ]
  },
  {
   "cell_type": "code",
   "execution_count": 46,
   "id": "c79afd23",
   "metadata": {},
   "outputs": [
    {
     "data": {
      "text/plain": [
       "'There-can-only-one.'"
      ]
     },
     "execution_count": 46,
     "metadata": {},
     "output_type": "execute_result"
    }
   ],
   "source": [
    "'-'.join('There can only one.'.split())"
   ]
  },
  {
   "cell_type": "markdown",
   "id": "e67238b0",
   "metadata": {},
   "source": [
    "### 9. What are the methods for right-justifying, left-justifying, and centering a string?\n"
   ]
  },
  {
   "cell_type": "markdown",
   "id": "bd89aa55",
   "metadata": {},
   "source": [
    "<b>Ans: </b>The methods for right-justifying is rjust(), for left-justifying ljust(), for centering center()."
   ]
  },
  {
   "cell_type": "markdown",
   "id": "34ee0136",
   "metadata": {},
   "source": [
    "### 10. What is the best way to remove whitespace characters from the start or end?"
   ]
  },
  {
   "cell_type": "markdown",
   "id": "f3fc9e6f",
   "metadata": {},
   "source": [
    "<b>Ans:</b> For removing whitespace characters from start we can use lstrip and for right ends we can use rstrip()"
   ]
  }
 ],
 "metadata": {
  "kernelspec": {
   "display_name": "Python 3 (ipykernel)",
   "language": "python",
   "name": "python3"
  },
  "language_info": {
   "codemirror_mode": {
    "name": "ipython",
    "version": 3
   },
   "file_extension": ".py",
   "mimetype": "text/x-python",
   "name": "python",
   "nbconvert_exporter": "python",
   "pygments_lexer": "ipython3",
   "version": "3.9.7"
  }
 },
 "nbformat": 4,
 "nbformat_minor": 5
}
