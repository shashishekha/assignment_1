{
 "cells": [
  {
   "cell_type": "markdown",
   "id": "ba3d04c7",
   "metadata": {},
   "source": [
    "### 1.Write a Python Program to Find the Factorial of a Number?\n",
    "\n"
   ]
  },
  {
   "cell_type": "code",
   "execution_count": 28,
   "id": "a1040f67",
   "metadata": {},
   "outputs": [
    {
     "name": "stdout",
     "output_type": "stream",
     "text": [
      "Enter the number: 6\n"
     ]
    },
    {
     "data": {
      "text/plain": [
       "720"
      ]
     },
     "execution_count": 28,
     "metadata": {},
     "output_type": "execute_result"
    }
   ],
   "source": [
    "def fact(n):\n",
    "    '''function for finding factorial.'''\n",
    "    if(n==0 or n==1):\n",
    "        return n\n",
    "    return n*fact(n-1)\n",
    "\n",
    "fact(int(input(\"Enter the number: \")))"
   ]
  },
  {
   "cell_type": "markdown",
   "id": "ad7d3580",
   "metadata": {},
   "source": [
    "### 2.Write a Python Program to Display the multiplication Table?\n"
   ]
  },
  {
   "cell_type": "code",
   "execution_count": 12,
   "id": "40635b15",
   "metadata": {},
   "outputs": [
    {
     "name": "stdout",
     "output_type": "stream",
     "text": [
      "Enter the number: 6\n",
      "6 * 1 = 6\n",
      "6 * 2 = 12\n",
      "6 * 3 = 18\n",
      "6 * 4 = 24\n",
      "6 * 5 = 30\n",
      "6 * 6 = 36\n",
      "6 * 7 = 42\n",
      "6 * 8 = 48\n",
      "6 * 9 = 54\n",
      "6 * 10 = 60\n"
     ]
    }
   ],
   "source": [
    "def multiplication_table(num):\n",
    "    '''Program to display multiplication table.'''\n",
    "    for i in range(1,11):\n",
    "        print(f'{num} * {i} = {num*i}')\n",
    "\n",
    "multiplication_table(int(input(\"Enter the number: \")))"
   ]
  },
  {
   "cell_type": "markdown",
   "id": "4e2e12da",
   "metadata": {},
   "source": [
    "### 3.Write a Python Program to Print the Fibonacci sequence?\n"
   ]
  },
  {
   "cell_type": "code",
   "execution_count": 11,
   "id": "dbfaf4da",
   "metadata": {},
   "outputs": [
    {
     "name": "stdout",
     "output_type": "stream",
     "text": [
      "Enter the value: 6\n",
      "0\n",
      "1\n",
      "1\n",
      "2\n",
      "3\n",
      "5\n"
     ]
    }
   ],
   "source": [
    "\n",
    "def fibSeq(num):\n",
    "    '''Function to find the fibonacci sequence.'''\n",
    "    a = 0\n",
    "    b = 1\n",
    "    if num == 1:\n",
    "        print(a)\n",
    "    else:\n",
    "        print(a)\n",
    "        print(b)\n",
    "        for i in range(2,num):\n",
    "            c = a + b\n",
    "            a = b\n",
    "            b = c\n",
    "            print(c)\n",
    "\n",
    "fibSeq(int(input(\"Enter the value: \")))       \n",
    "        \n",
    "    "
   ]
  },
  {
   "cell_type": "markdown",
   "id": "414f2e42",
   "metadata": {},
   "source": [
    "\n",
    "### 4.Write a Python Program to Check Armstrong Number?\n"
   ]
  },
  {
   "cell_type": "code",
   "execution_count": 25,
   "id": "c08fe7b5",
   "metadata": {},
   "outputs": [
    {
     "name": "stdout",
     "output_type": "stream",
     "text": [
      "Not Armstrong\n"
     ]
    }
   ],
   "source": [
    "#sum of cube of each digit is equal to the number itself is called armstrong number.\n",
    "def check_armstrong(n):\n",
    "    temp = n\n",
    "    sum =0\n",
    "    while(n!=0):\n",
    "        a=int(n%10)\n",
    "        n=n/10\n",
    "        sum = sum+(a*a*a)\n",
    "    if(temp==sum):\n",
    "        return \"Armstrong Number.\"\n",
    "    else:\n",
    "        return \"Not Armstrong\"\n",
    "print(check_armstrong(6))"
   ]
  },
  {
   "cell_type": "markdown",
   "id": "548197d2",
   "metadata": {},
   "source": [
    "### 5.Write a Python Program to Find Armstrong Number in an Interval?\n"
   ]
  },
  {
   "cell_type": "code",
   "execution_count": 46,
   "id": "efe78067",
   "metadata": {},
   "outputs": [
    {
     "name": "stdout",
     "output_type": "stream",
     "text": [
      "Enter the value of a:0\n",
      "Enter the value of b:999\n",
      "0 1 153 370 371 407\n"
     ]
    }
   ],
   "source": [
    "def arm_interval(a,b):\n",
    "    '''Function to find the armstrong number in range a to b.'''\n",
    "   \n",
    "    l = []\n",
    "    for i in range(a,b+1):\n",
    "        sum =0\n",
    "        temp = i\n",
    "        while(temp!=0):\n",
    "            k = int(temp%10)\n",
    "            temp=temp/10\n",
    "            sum = sum+(k*k*k)\n",
    "        if(sum==i):\n",
    "            l.append(i)\n",
    "        else:\n",
    "            pass\n",
    "    return l\n",
    "print(*arm_interval(int(input(\"Enter the value of a:\")),(int(input(\"Enter the value of b:\")))))"
   ]
  },
  {
   "cell_type": "markdown",
   "id": "80eacbfc",
   "metadata": {},
   "source": [
    "### 6.Write a Python Program to Find the Sum of Natural Numbers?"
   ]
  },
  {
   "cell_type": "code",
   "execution_count": 9,
   "id": "0d02a1fa",
   "metadata": {},
   "outputs": [
    {
     "name": "stdout",
     "output_type": "stream",
     "text": [
      "Enter the num5\n",
      "15\n"
     ]
    }
   ],
   "source": [
    "def sum_natural_numbers(num):\n",
    "    '''function for finding sum of natural number from 1 to num'''\n",
    "    sum = 0\n",
    "    for i in range(1,num+1):\n",
    "        sum = sum+i\n",
    "    return sum\n",
    "print(sum_natural_numbers(int(input(\"Enter the num\"))))"
   ]
  },
  {
   "cell_type": "code",
   "execution_count": null,
   "id": "f23bf0a4",
   "metadata": {},
   "outputs": [],
   "source": []
  }
 ],
 "metadata": {
  "kernelspec": {
   "display_name": "Python 3 (ipykernel)",
   "language": "python",
   "name": "python3"
  },
  "language_info": {
   "codemirror_mode": {
    "name": "ipython",
    "version": 3
   },
   "file_extension": ".py",
   "mimetype": "text/x-python",
   "name": "python",
   "nbconvert_exporter": "python",
   "pygments_lexer": "ipython3",
   "version": "3.9.7"
  }
 },
 "nbformat": 4,
 "nbformat_minor": 5
}
