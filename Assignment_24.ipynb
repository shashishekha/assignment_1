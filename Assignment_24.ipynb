{
 "cells": [
  {
   "cell_type": "markdown",
   "id": "9bfb94b0",
   "metadata": {},
   "source": [
    "### 1. What is the relationship between def statements and lambda expressions ?\n",
    "\n"
   ]
  },
  {
   "cell_type": "markdown",
   "id": "131a11ec",
   "metadata": {},
   "source": [
    "Ans: \n",
    "1. def defined functions are easy to interpret whereas in lambda functions the interpretation might be tricky.\n",
    "2. def defined fucntions can consists of any number of execution statements inside the function definition. whereas the limited operation can be performed using lambda functions.\n",
    "3.Return should be explicitly defined in def statements whereas there is no need of using the return statement in lambda function.\n",
    "4.def statements are defined using keyword def. whereas keyword lambda is used to define lambda expression.\n"
   ]
  },
  {
   "cell_type": "markdown",
   "id": "6909c701",
   "metadata": {},
   "source": [
    "### 2. What is the benefit of lambda?\n"
   ]
  },
  {
   "cell_type": "markdown",
   "id": "1e1568f5",
   "metadata": {},
   "source": [
    "The benefit of using lambda functions are:\n",
    "\n",
    "1.The code is simple and clear.\n",
    "\n",
    "2.No additional variables or spaces are added.\n",
    "\n",
    "3.Functions created using lambda can be assigned to another variable that can be used by calling the variable.\n"
   ]
  },
  {
   "cell_type": "code",
   "execution_count": 15,
   "id": "729255e7",
   "metadata": {},
   "outputs": [
    {
     "ename": "SyntaxError",
     "evalue": "invalid syntax (Temp/ipykernel_16568/2148479096.py, line 2)",
     "output_type": "error",
     "traceback": [
      "\u001b[1;36m  File \u001b[1;32m\"C:\\Users\\HP\\AppData\\Local\\Temp/ipykernel_16568/2148479096.py\"\u001b[1;36m, line \u001b[1;32m2\u001b[0m\n\u001b[1;33m    [lamda s : print(s)]\u001b[0m\n\u001b[1;37m           ^\u001b[0m\n\u001b[1;31mSyntaxError\u001b[0m\u001b[1;31m:\u001b[0m invalid syntax\n"
     ]
    }
   ],
   "source": [
    "s = \"shashishekhar\"\n",
    "\n",
    "\n"
   ]
  },
  {
   "cell_type": "markdown",
   "id": "ac25887e",
   "metadata": {},
   "source": [
    "### 3. Compare and contrast map, filter, and reduce.\n"
   ]
  },
  {
   "cell_type": "markdown",
   "id": "1c6a91f2",
   "metadata": {},
   "source": [
    "1. map() : The map function takes another function as a parameter along with sequence of iterables and returns an output after applyting the function to each iterable present in the sequence.\n",
    "2.filer() : The filter() function is used to create an output list consisting of values for which the function returns true.\n",
    "3.reduce() : The reduce() function applies a given function to the iterables and returns a single value"
   ]
  },
  {
   "cell_type": "code",
   "execution_count": 3,
   "id": "dd592542",
   "metadata": {},
   "outputs": [
    {
     "name": "stdout",
     "output_type": "stream",
     "text": [
      "[False, True, False, True, False]\n"
     ]
    }
   ],
   "source": [
    "def starts_with_A(s):\n",
    "    '''function to show how map works.'''\n",
    "    return s[0] == 'A'\n",
    "fruit = ['Banana','Apple','Pear','Apricot','Orange']\n",
    "newmap= map(starts_with_A, fruit)\n",
    "print(list(newmap))"
   ]
  },
  {
   "cell_type": "code",
   "execution_count": 4,
   "id": "e6406466",
   "metadata": {},
   "outputs": [
    {
     "name": "stdout",
     "output_type": "stream",
     "text": [
      "['Apple', 'Apricot']\n"
     ]
    }
   ],
   "source": [
    "def starts_with_A(s):\n",
    "    '''function to show how filter works'''\n",
    "    return s[0]=='A'\n",
    "fruit = ['Banana','Apple','Pear','Apricot','Orange']\n",
    "filterobj = filter(starts_with_A, fruit)\n",
    "print(list(filterobj))"
   ]
  },
  {
   "cell_type": "code",
   "execution_count": 6,
   "id": "823556d0",
   "metadata": {},
   "outputs": [
    {
     "name": "stdout",
     "output_type": "stream",
     "text": [
      "16\n"
     ]
    }
   ],
   "source": [
    "from functools import reduce\n",
    "def add(a,b):\n",
    "    '''function to show how reduce works'''\n",
    "    return a+b\n",
    "k = [2,4,7,3]\n",
    "print(reduce(add,k))"
   ]
  },
  {
   "cell_type": "markdown",
   "id": "d52a57a5",
   "metadata": {},
   "source": [
    "### 4. What are function annotations, and how are they used?\n"
   ]
  },
  {
   "cell_type": "markdown",
   "id": "21a02759",
   "metadata": {},
   "source": [
    "Ans: The function annotations associates various parts of a function with arbitrary python expressions at compile time.\n"
   ]
  },
  {
   "cell_type": "markdown",
   "id": "d28855b1",
   "metadata": {},
   "source": [
    "### 5. What are recursive functions, and how are they used?\n"
   ]
  },
  {
   "cell_type": "markdown",
   "id": "bcc8df19",
   "metadata": {},
   "source": [
    "Ans: A recursive function is a function that calls itself during its execution. This function can call itself again and again as per the condition."
   ]
  },
  {
   "cell_type": "code",
   "execution_count": 9,
   "id": "3dc19707",
   "metadata": {},
   "outputs": [
    {
     "data": {
      "text/plain": [
       "24"
      ]
     },
     "execution_count": 9,
     "metadata": {},
     "output_type": "execute_result"
    }
   ],
   "source": [
    "def fact(n):\n",
    "    '''function to calculate factorial of a number.Recursive approach'''\n",
    "    if(n==0 or n==1):\n",
    "        return 1\n",
    "    return n*fact(n-1)\n",
    "fact(4)"
   ]
  },
  {
   "cell_type": "markdown",
   "id": "29c4b62b",
   "metadata": {},
   "source": [
    "### 6. What are some general design guidelines for coding functions?\n"
   ]
  },
  {
   "cell_type": "markdown",
   "id": "21ced6cd",
   "metadata": {},
   "source": [
    "Ans: General design guidlines for coding functions are as follows:\n",
    "\n",
    "1.Always use docstring to explain what the function is used for.\n",
    "\n",
    "2.Avoid using or limit the use of global variables.\n",
    "\n",
    "3.Indentation should be done correctly otherwise it will result into an error.\n",
    "\n",
    "4.Naming conventions must be followed.\n",
    "\n",
    "5.The name of function should be chosen wisely so that it can somehow imitate what function may do, which will be easier to understand the code during collaboration.\n",
    "\n",
    "6.constant should be represented in allcaps."
   ]
  },
  {
   "cell_type": "markdown",
   "id": "9dcd32f3",
   "metadata": {},
   "source": [
    "### 7. Name three or more ways that functions can communicate results to a caller."
   ]
  },
  {
   "cell_type": "markdown",
   "id": "6ac6ea69",
   "metadata": {},
   "source": [
    "Ans: some of the ways that function can communicate results to a caller.\n",
    "\n",
    "1.print\n",
    "2. yield\n",
    "3. return\n",
    "    "
   ]
  },
  {
   "cell_type": "code",
   "execution_count": null,
   "id": "5f120c5d",
   "metadata": {},
   "outputs": [],
   "source": []
  }
 ],
 "metadata": {
  "kernelspec": {
   "display_name": "Python 3 (ipykernel)",
   "language": "python",
   "name": "python3"
  },
  "language_info": {
   "codemirror_mode": {
    "name": "ipython",
    "version": 3
   },
   "file_extension": ".py",
   "mimetype": "text/x-python",
   "name": "python",
   "nbconvert_exporter": "python",
   "pygments_lexer": "ipython3",
   "version": "3.9.7"
  }
 },
 "nbformat": 4,
 "nbformat_minor": 5
}
