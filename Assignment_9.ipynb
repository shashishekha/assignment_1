{
 "cells": [
  {
   "cell_type": "markdown",
   "id": "63af43b5",
   "metadata": {},
   "source": [
    "### 1. To what does a relative path refer?\n"
   ]
  },
  {
   "cell_type": "markdown",
   "id": "19defe05",
   "metadata": {},
   "source": [
    "The relative path is the path of files with respect to our current working directory."
   ]
  },
  {
   "cell_type": "markdown",
   "id": "c45b9922",
   "metadata": {},
   "source": [
    "### 2. What does an absolute path start with your operating system?\n",
    "\n"
   ]
  },
  {
   "cell_type": "markdown",
   "id": "edf414cb",
   "metadata": {},
   "source": [
    "<br>Ans: </br>As currently i am using windows so the absolute path starts with c:"
   ]
  },
  {
   "cell_type": "markdown",
   "id": "87496d69",
   "metadata": {},
   "source": [
    "### 3. What do the functions os.getcwd() and os.chdir() do?\n"
   ]
  },
  {
   "cell_type": "markdown",
   "id": "a8741ac9",
   "metadata": {},
   "source": [
    "os.getcwd() tells us about the location of current working directory. Whereas os.chdir() method is used to change the current working directory to specified path.In linux we use pwd and cd"
   ]
  },
  {
   "cell_type": "code",
   "execution_count": 10,
   "id": "e69afa6b",
   "metadata": {},
   "outputs": [
    {
     "name": "stdout",
     "output_type": "stream",
     "text": [
      "C:\\Users\\HP\\Desktop\\ineuronnnn\n",
      "C:\\Users\\HP\\Desktop\\ineuronnnn\\loggingI\n"
     ]
    }
   ],
   "source": [
    "import os\n",
    "print(os.getcwd())\n",
    "new_path=r'C:\\Users\\HP\\Desktop\\ineuronnnn\\loggingI'\n",
    "os.chdir(new_path)\n",
    "print(os.getcwd())"
   ]
  },
  {
   "cell_type": "markdown",
   "id": "495de0b1",
   "metadata": {},
   "source": [
    "### 4. What are the . and .. folders?\n"
   ]
  },
  {
   "cell_type": "markdown",
   "id": "f030b8e3",
   "metadata": {},
   "source": [
    ". represents the current directory whereas .. represents the parent directory of the current directory."
   ]
  },
  {
   "cell_type": "markdown",
   "id": "429a83cc",
   "metadata": {},
   "source": [
    "### 5. In C:\\bacon\\eggs\\spam.txt, which part is the dir name, and which part is the base name?\n"
   ]
  },
  {
   "cell_type": "markdown",
   "id": "e810112b",
   "metadata": {},
   "source": [
    "Here The dir name is C:\\\\bacon\\eggs\n",
    "    The base name is spam.txt"
   ]
  },
  {
   "cell_type": "markdown",
   "id": "82943748",
   "metadata": {},
   "source": [
    "### 6. What are the three “mode” arguments that can be passed to the open() function?\n"
   ]
  },
  {
   "cell_type": "markdown",
   "id": "9e88d560",
   "metadata": {},
   "source": [
    "A file can be accessed in python using open() function. It takes two arguments filename and mode of operation. If mode is not mentioned then the default mode of opening is read mode. The syntax : open(filename, mode)\n",
    "\n",
    "The three mode that can be passed to the open() function are as follows:\n",
    "1.'r' : Read mode: This is the default mode for open(). The file is opened and a pointer is positioned at the beginning of the file's content.\n",
    "\n",
    "2.'W'(Write mode: This mode will overwrite any existing content in a file. If the given file does not exist, a new one will be created.\n",
    "\n",
    "3.'r+'(Read/Write) mode: This mode allows to simultaneously read and write to a file."
   ]
  },
  {
   "cell_type": "markdown",
   "id": "fa21e3a2",
   "metadata": {},
   "source": [
    "### 7. What happens if an existing file is opened in write mode?\n"
   ]
  },
  {
   "cell_type": "markdown",
   "id": "227047c4",
   "metadata": {},
   "source": [
    "If an existing file is opened in write mode then it allows us to overwrite in it. If the file doesnot exist then a new one will be created."
   ]
  },
  {
   "cell_type": "markdown",
   "id": "3016b8c1",
   "metadata": {},
   "source": [
    "### 8. How do you tell the difference between read() and readlines()?\n"
   ]
  },
  {
   "cell_type": "markdown",
   "id": "38a817ae",
   "metadata": {},
   "source": [
    "The difference between read() and readlines() are as follows:\n",
    "1. read() will read the whole file at once and then print out the first characters that take up as many bytes as you specify in the parenthesis. Whereas the readline() will read and print out only the first character that take up as many bytes as you specify in parenthesis. We can use readline() when we are reading files that are too big for our RAM.\n",
    "\n",
    "2. The read() would treat each character in the file separately. The iteration would happen for every character. While the readline() function, on the other hand, only reads a single line of the file. This means that if the first line of the file were three lines long, the readline() function would only parse on the first line of the file."
   ]
  },
  {
   "cell_type": "markdown",
   "id": "53957334",
   "metadata": {},
   "source": [
    "### 9. What data structure does a shelf value resemble?"
   ]
  },
  {
   "cell_type": "markdown",
   "id": "8a4333a5",
   "metadata": {},
   "source": [
    "The shelf value resemble a dictionary as it contains key and value pair."
   ]
  },
  {
   "cell_type": "code",
   "execution_count": null,
   "id": "091856cd",
   "metadata": {},
   "outputs": [],
   "source": []
  }
 ],
 "metadata": {
  "kernelspec": {
   "display_name": "Python 3 (ipykernel)",
   "language": "python",
   "name": "python3"
  },
  "language_info": {
   "codemirror_mode": {
    "name": "ipython",
    "version": 3
   },
   "file_extension": ".py",
   "mimetype": "text/x-python",
   "name": "python",
   "nbconvert_exporter": "python",
   "pygments_lexer": "ipython3",
   "version": "3.9.7"
  }
 },
 "nbformat": 4,
 "nbformat_minor": 5
}
